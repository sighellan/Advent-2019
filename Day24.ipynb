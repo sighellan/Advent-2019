{
 "cells": [
  {
   "cell_type": "code",
   "execution_count": 1,
   "metadata": {},
   "outputs": [],
   "source": [
    "%load_ext autoreload\n",
    "%autoreload 2\n",
    "\n",
    "import numpy as np\n",
    "import matplotlib.pyplot as plt\n",
    "import time\n",
    "import copy"
   ]
  },
  {
   "cell_type": "code",
   "execution_count": 2,
   "metadata": {},
   "outputs": [],
   "source": [
    "def count_nn_bugs(grid, yy, xx):\n",
    "    pot_nn = [(yy+1, xx), (yy-1, xx), (yy, xx+1), (yy, xx-1)]\n",
    "    tally = 0\n",
    "    N = 5\n",
    "    for nn_yy, nn_xx in pot_nn:\n",
    "        if nn_yy < N and nn_yy >= 0 and nn_xx < N and nn_xx >= 0:\n",
    "            if grid[nn_yy, nn_xx]:\n",
    "                tally = tally + 1\n",
    "    return tally\n",
    "            \n",
    "def iterate_grid(old_grid):\n",
    "    N = 5\n",
    "    new_grid = np.ones((N, N))*-1\n",
    "    for yy in range(N):\n",
    "        for xx in range(N):\n",
    "            nn_bugs = count_nn_bugs(old_grid, yy, xx)\n",
    "            if old_grid[yy, xx]:\n",
    "                new_grid[yy, xx] = (nn_bugs == 1)\n",
    "            else:\n",
    "                if nn_bugs == 1 or nn_bugs == 2:\n",
    "                    new_grid[yy, xx] = 1\n",
    "                else:\n",
    "                    new_grid[yy, xx] = 0\n",
    "    return new_grid\n",
    "\n",
    "def parse_grid(inp_string):\n",
    "    inp_list = inp_string.split('\\n')\n",
    "    grid_list = []\n",
    "    for ll in inp_list:\n",
    "        ll_list = []\n",
    "        for cc in ll:\n",
    "            ll_list.append(cc == '#')\n",
    "        grid_list.append(ll_list)\n",
    "    return np.array(grid_list)\n",
    "\n",
    "def calculate_biodiversity_rating(grid):\n",
    "    tally = 0\n",
    "    N = 5\n",
    "    for ii in range(N*N):\n",
    "        if grid[ii//N, ii%N]:\n",
    "#             print(ii, 2**ii)\n",
    "            tally = tally + 2**ii\n",
    "    return tally"
   ]
  },
  {
   "cell_type": "code",
   "execution_count": 3,
   "metadata": {},
   "outputs": [],
   "source": [
    "### Grid_dict is a dict from level to a grid if the grid is there\n",
    "\n",
    "def iterate_grid_rec(old_grid_dict):\n",
    "    N = 5\n",
    "    L_min = min(old_grid_dict.keys())\n",
    "    L_max = max(old_grid_dict.keys())\n",
    "    if np.sum(old_grid_dict[L_min]) > 0:\n",
    "        old_grid_dict[L_min-1] = np.zeros((N, N))\n",
    "        L_min = L_min - 1\n",
    "    if np.sum(old_grid_dict[L_max]) > 0:\n",
    "        old_grid_dict[L_max+1] = np.zeros((N, N))\n",
    "        L_max = L_max + 1\n",
    "    \n",
    "    new_grid_dict = {}\n",
    "    for L in range(L_min, L_max+1):\n",
    "        new_grid = np.ones((N, N))*-1\n",
    "        for yy in range(N):\n",
    "            for xx in range(N):\n",
    "                if yy == 2 and xx == 2:\n",
    "                    new_grid[yy, xx] = 0\n",
    "                else:\n",
    "                    nn_bugs = count_nn_bugs_rec(old_grid_dict, yy, xx, L)\n",
    "                    if old_grid_dict[L][yy, xx]:\n",
    "                        new_grid[yy, xx] = (nn_bugs == 1)\n",
    "                    else:\n",
    "                        if nn_bugs == 1 or nn_bugs == 2:\n",
    "                            new_grid[yy, xx] = 1\n",
    "                        else:\n",
    "                            new_grid[yy, xx] = 0\n",
    "        new_grid_dict[L] = new_grid\n",
    "    return new_grid_dict\n",
    "    \n",
    "\n",
    "def count_nn_bugs_rec(grid_dict, yy, xx, level):\n",
    "    pot_nn = [(yy+1, xx, level), (yy-1, xx, level), (yy, xx+1, level), (yy, xx-1, level)]\n",
    "#     pot_nn_type_2 = []\n",
    "    tally = 0\n",
    "    N = 5\n",
    "    for nn_yy, nn_xx, nn_level in pot_nn:\n",
    "#         print(nn_yy, nn_xx, nn_level)\n",
    "        if nn_yy >= N:\n",
    "            nn_yy = 3\n",
    "            nn_xx = 2\n",
    "            nn_level = nn_level - 1\n",
    "        if nn_xx >= N:\n",
    "            nn_yy = 2\n",
    "            nn_xx = 3\n",
    "            nn_level = nn_level - 1\n",
    "        if nn_yy < 0:\n",
    "            nn_yy = 1\n",
    "            nn_xx = 2\n",
    "            nn_level = nn_level - 1\n",
    "        if nn_xx < 0:\n",
    "            nn_yy = 2\n",
    "            nn_xx = 1\n",
    "            nn_level = nn_level - 1\n",
    "#         print(nn_yy, nn_xx, nn_level)\n",
    "        if nn_yy == 2 and nn_xx == 2:\n",
    "            if yy == 1:\n",
    "                sub_points = [(0, rr, nn_level+1) for rr in range(5)]\n",
    "            if yy == 3:\n",
    "                sub_points = [(4, rr, nn_level+1) for rr in range(5)]\n",
    "            if xx == 1:\n",
    "                sub_points = [(rr, 0, nn_level+1) for rr in range(5)]\n",
    "            if xx == 3:\n",
    "                sub_points = [(rr, 4, nn_level+1) for rr in range(5)]\n",
    "            for sub_yy, sub_xx, sub_level in sub_points:\n",
    "                if sub_level in grid_dict.keys() and grid_dict[sub_level][sub_yy, sub_xx]:\n",
    "                    tally = tally + 1\n",
    "        else:\n",
    "#         if nn_yy < N and nn_yy >= 0 and nn_xx < N and nn_xx >= 0:\n",
    "            if nn_level in grid_dict.keys() and grid_dict[nn_level][nn_yy, nn_xx]:\n",
    "#                 print(grid_dict[nn_level][nn_yy, nn_xx])\n",
    "                tally = tally + 1\n",
    "    return tally\n",
    "\n",
    "def count_bugs(grid_dict):\n",
    "    tally = 0\n",
    "    for L in grid_dict.keys():\n",
    "        tally = tally + np.sum(grid_dict[L])\n",
    "    return tally"
   ]
  },
  {
   "cell_type": "code",
   "execution_count": 4,
   "metadata": {},
   "outputs": [
    {
     "name": "stdout",
     "output_type": "stream",
     "text": [
      "Part one solution: 3186366\n"
     ]
    },
    {
     "data": {
      "image/png": "[encoded data removed]",
      "text/plain": [
       "<Figure size 432x288 with 1 Axes>"
      ]
     },
     "metadata": {
      "needs_background": "light"
     },
     "output_type": "display_data"
    }
   ],
   "source": [
    "inp_ex = \"\"\"###..\n",
    "#...#\n",
    ".#.##\n",
    "##.#.\n",
    "#.###\"\"\"\n",
    "\n",
    "grid = parse_grid(inp_ex)\n",
    "past_ratings = set([])\n",
    "while True:\n",
    "    grid = iterate_grid(grid)\n",
    "    rating = calculate_biodiversity_rating(grid)\n",
    "    if rating in past_ratings:\n",
    "        print('Part one solution: %s' %rating)\n",
    "        plt.pcolormesh(grid[list(range(4, -1, -1)), :])\n",
    "        break\n",
    "    else:\n",
    "        past_ratings.add(rating)"
   ]
  },
  {
   "cell_type": "code",
   "execution_count": 5,
   "metadata": {},
   "outputs": [
    {
     "name": "stdout",
     "output_type": "stream",
     "text": [
      "Part two solution: 2031.0\n"
     ]
    },
    {
     "data": {
      "image/png": "[encoded data removed]",
      "text/plain": [
       "<Figure size 432x288 with 1 Axes>"
      ]
     },
     "metadata": {
      "needs_background": "light"
     },
     "output_type": "display_data"
    }
   ],
   "source": [
    "inp_ex = \"\"\"###..\n",
    "#...#\n",
    ".#.##\n",
    "##.#.\n",
    "#.###\"\"\"\n",
    "\n",
    "grid = parse_grid(inp_ex)\n",
    "grid_dict = {0: grid}\n",
    "plt.pcolormesh(grid_dict[0])\n",
    "\n",
    "for _ in range(200):\n",
    "    grid_dict = iterate_grid_rec(grid_dict)\n",
    "\n",
    "print('Part two solution: %s' %count_bugs(grid_dict))\n"
   ]
  },
  {
   "cell_type": "code",
   "execution_count": null,
   "metadata": {},
   "outputs": [],
   "source": []
  }
 ],
 "metadata": {
  "kernelspec": {
   "display_name": "gpss",
   "language": "python",
   "name": "gpss"
  },
  "language_info": {
   "codemirror_mode": {
    "name": "ipython",
    "version": 3
   },
   "file_extension": ".py",
   "mimetype": "text/x-python",
   "name": "python",
   "nbconvert_exporter": "python",
   "pygments_lexer": "ipython3",
   "version": "3.7.3"
  }
 },
 "nbformat": 4,
 "nbformat_minor": 2
}
