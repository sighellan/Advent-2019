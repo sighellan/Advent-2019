{
 "cells": [
  {
   "cell_type": "code",
   "execution_count": 1,
   "metadata": {},
   "outputs": [],
   "source": [
    "import time\n",
    "\n",
    "import numpy as np"
   ]
  },
  {
   "cell_type": "code",
   "execution_count": 2,
   "metadata": {},
   "outputs": [],
   "source": [
    "def reduce(aa):\n",
    "    return np.abs(aa) % 10"
   ]
  },
  {
   "cell_type": "code",
   "execution_count": 3,
   "metadata": {},
   "outputs": [],
   "source": [
    "inp_ex = [int(aa) for aa in list('12345678')]\n",
    "# inp_ex = [9, 8, 7, 6, 5]"
   ]
  },
  {
   "cell_type": "code",
   "execution_count": 4,
   "metadata": {},
   "outputs": [],
   "source": [
    "ex_pattern = [0, 1, 0, -1]"
   ]
  },
  {
   "cell_type": "code",
   "execution_count": 5,
   "metadata": {},
   "outputs": [],
   "source": [
    "def get_matrix(ex_pattern, N):\n",
    "    mat = np.ones((N, N))*-99\n",
    "    for ii in range(N):\n",
    "        for jj in range(N):\n",
    "            mat[ii, jj] = ex_pattern[((jj+1)//(ii+1)) % len(ex_pattern)]\n",
    "    return mat"
   ]
  },
  {
   "cell_type": "code",
   "execution_count": 6,
   "metadata": {},
   "outputs": [
    {
     "name": "stdout",
     "output_type": "stream",
     "text": [
      "[[ 1.  0. -1.  0.  1.  0. -1.  0.]\n",
      " [ 0.  1.  1.  0.  0. -1. -1.  0.]\n",
      " [ 0.  0.  1.  1.  1.  0.  0.  0.]\n",
      " [ 0.  0.  0.  1.  1.  1.  1.  0.]\n",
      " [ 0.  0.  0.  0.  1.  1.  1.  1.]\n",
      " [ 0.  0.  0.  0.  0.  1.  1.  1.]\n",
      " [ 0.  0.  0.  0.  0.  0.  1.  1.]\n",
      " [ 0.  0.  0.  0.  0.  0.  0.  1.]]\n"
     ]
    }
   ],
   "source": [
    "mat = get_matrix(ex_pattern, 8)\n",
    "print(mat)"
   ]
  },
  {
   "cell_type": "code",
   "execution_count": 7,
   "metadata": {},
   "outputs": [],
   "source": [
    "def next_phase(inp_ll, mat):\n",
    "    return reduce([aa for aa in np.matmul(mat, inp_ll)])"
   ]
  },
  {
   "cell_type": "code",
   "execution_count": 8,
   "metadata": {},
   "outputs": [
    {
     "name": "stdout",
     "output_type": "stream",
     "text": [
      "[8. 9. 5. 7. 6. 8. 2. 8.]\n"
     ]
    }
   ],
   "source": [
    "inp_ex = [int(aa) for aa in list('59776034095811644545367793179989602140948714406234694972894485066523525742503986771912019032922788494900655855458086979764617375580802558963587025784918882219610831940992399201782385674223284411499237619800193879768668210162176394607502218602633153772062973149533650562554942574593878073238232563649673858167635378695190356159796342204759393156294658366279922734213385144895116649768185966866202413314939692174223210484933678866478944104978890019728562001417746656699281992028356004888860103805472866615243544781377748654471750560830099048747570925902575765054898899512303917159138097375338444610809891667094051108359134017128028174230720398965960712')]\n",
    "mat = get_matrix(ex_pattern, len(inp_ex))\n",
    "cur = inp_ex\n",
    "for _ in range(100):\n",
    "    cur = next_phase(cur, mat)\n",
    "print(cur[:8])"
   ]
  },
  {
   "cell_type": "code",
   "execution_count": 9,
   "metadata": {},
   "outputs": [
    {
     "data": {
      "text/plain": [
       "'89576828'"
      ]
     },
     "execution_count": 9,
     "metadata": {},
     "output_type": "execute_result"
    }
   ],
   "source": [
    "# Part one solution\n",
    "''.join([str(int(cc)) for cc in cur[:8]])"
   ]
  },
  {
   "cell_type": "code",
   "execution_count": 10,
   "metadata": {},
   "outputs": [],
   "source": [
    "# Repeat puzzle input 10000 times\n",
    "# "
   ]
  },
  {
   "cell_type": "code",
   "execution_count": 11,
   "metadata": {},
   "outputs": [],
   "source": [
    "# For late points, it's simply a matter of summing the appropriate points"
   ]
  },
  {
   "cell_type": "code",
   "execution_count": 12,
   "metadata": {},
   "outputs": [],
   "source": [
    "inp_str = '59776034095811644545367793179989602140948714406234694972894485066523525742503986771912019032922788494900655855458086979764617375580802558963587025784918882219610831940992399201782385674223284411499237619800193879768668210162176394607502218602633153772062973149533650562554942574593878073238232563649673858167635378695190356159796342204759393156294658366279922734213385144895116649768185966866202413314939692174223210484933678866478944104978890019728562001417746656699281992028356004888860103805472866615243544781377748654471750560830099048747570925902575765054898899512303917159138097375338444610809891667094051108359134017128028174230720398965960712'\n",
    "len_inp = len(inp_str)\n",
    "len_all = len_inp * 10000\n",
    "\n",
    "inp_ex = [int(aa) for aa in list(inp_str)]\n",
    "offset = int(inp_str[:7])\n",
    "len_rel = len_all - offset\n",
    "\n",
    "inp_ex_expanded = [int(aa) for aa in list(inp_str[offset % len_inp:len_inp])]\n",
    "\n",
    "inp_ex_expanded = np.hstack([inp_ex_expanded, inp_ex*(len_rel // len_inp)])"
   ]
  },
  {
   "cell_type": "code",
   "execution_count": 13,
   "metadata": {},
   "outputs": [
    {
     "name": "stdout",
     "output_type": "stream",
     "text": [
      "27.225311040878296\n",
      "[2. 3. 7. 5. 2. 5. 7. 9.]\n",
      "Part two solution:\n",
      "23752579\n"
     ]
    }
   ],
   "source": [
    "start = time.time()\n",
    "cur = inp_ex_expanded\n",
    "for ii in range(100):\n",
    "    next_cur = np.ones(len_rel)*99\n",
    "    tally = 0\n",
    "    for jj in range(len_rel-1, -1, -1):\n",
    "        tally = tally + cur[jj]\n",
    "        next_cur[jj] = tally\n",
    "    cur = reduce(next_cur)\n",
    "end = time.time()\n",
    "print(end-start)\n",
    "print(cur[:8])\n",
    "print('Part two solution:')\n",
    "print(''.join([str(int(cc)) for cc in cur[:8]]))"
   ]
  },
  {
   "cell_type": "code",
   "execution_count": null,
   "metadata": {},
   "outputs": [],
   "source": []
  }
 ],
 "metadata": {
  "kernelspec": {
   "display_name": "gpss",
   "language": "python",
   "name": "gpss"
  },
  "language_info": {
   "codemirror_mode": {
    "name": "ipython",
    "version": 3
   },
   "file_extension": ".py",
   "mimetype": "text/x-python",
   "name": "python",
   "nbconvert_exporter": "python",
   "pygments_lexer": "ipython3",
   "version": "3.7.3"
  }
 },
 "nbformat": 4,
 "nbformat_minor": 2
}
