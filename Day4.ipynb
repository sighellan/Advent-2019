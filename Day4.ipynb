{
 "cells": [
  {
   "cell_type": "code",
   "execution_count": 1,
   "metadata": {},
   "outputs": [],
   "source": [
    "# six digit\n",
    "# min:246540\n",
    "# max:787419\n",
    "# two adjacent numbers the same\n",
    "# lower digits not smaller\n",
    "# "
   ]
  },
  {
   "cell_type": "code",
   "execution_count": 2,
   "metadata": {},
   "outputs": [],
   "source": [
    "ran_min = 246540\n",
    "ran_max = 787419"
   ]
  },
  {
   "cell_type": "code",
   "execution_count": 3,
   "metadata": {},
   "outputs": [],
   "source": [
    "def check_adjacent(inp_num):\n",
    "    num_str = list(str(inp_num))\n",
    "    prev = num_str[0]\n",
    "    adjacent = False\n",
    "    for cur in num_str[1:]:\n",
    "        if cur == prev:\n",
    "            adjacent = True\n",
    "        elif int(cur) < int(prev):\n",
    "            return False\n",
    "        prev = cur\n",
    "    return adjacent\n",
    "        \n",
    "def check_adjacent_partII(inp_num):\n",
    "    num_str = list(str(inp_num))\n",
    "    prev = num_str[0]\n",
    "    adjacent = False\n",
    "    cur_length = 1\n",
    "    for cur in num_str[1:]:\n",
    "        if cur == prev:\n",
    "            cur_length = cur_length + 1\n",
    "        elif int(cur) < int(prev):\n",
    "            return False\n",
    "        else:\n",
    "            if cur_length == 2:\n",
    "                adjacent = True\n",
    "            cur_length = 1\n",
    "        prev = cur\n",
    "    if cur_length == 2:\n",
    "        adjacent = True\n",
    "    return adjacent"
   ]
  },
  {
   "cell_type": "code",
   "execution_count": 4,
   "metadata": {},
   "outputs": [
    {
     "name": "stdout",
     "output_type": "stream",
     "text": [
      "True\n",
      "False\n",
      "False\n"
     ]
    }
   ],
   "source": [
    "# Examples\n",
    "print(check_adjacent(123779))\n",
    "print(check_adjacent(123789))\n",
    "print(check_adjacent(223450))"
   ]
  },
  {
   "cell_type": "code",
   "execution_count": 5,
   "metadata": {},
   "outputs": [
    {
     "name": "stdout",
     "output_type": "stream",
     "text": [
      "1063\n"
     ]
    }
   ],
   "source": [
    "# Part one\n",
    "num_matching = 0\n",
    "for ii in range(ran_min, ran_max+1):\n",
    "    num_matching = num_matching + check_adjacent(ii)\n",
    "    \n",
    "print(num_matching)"
   ]
  },
  {
   "cell_type": "code",
   "execution_count": 6,
   "metadata": {},
   "outputs": [
    {
     "name": "stdout",
     "output_type": "stream",
     "text": [
      "True\n",
      "False\n",
      "False\n",
      "True\n",
      "False\n",
      "True\n",
      "True\n"
     ]
    }
   ],
   "source": [
    "# Part two examples\n",
    "print(check_adjacent_partII(123779))\n",
    "print(check_adjacent_partII(123789))\n",
    "print(check_adjacent_partII(223450))\n",
    "print(check_adjacent_partII(112233))\n",
    "print(check_adjacent_partII(123444))\n",
    "print(check_adjacent_partII(111122))\n",
    "print(check_adjacent_partII(112222))"
   ]
  },
  {
   "cell_type": "code",
   "execution_count": 7,
   "metadata": {},
   "outputs": [
    {
     "name": "stdout",
     "output_type": "stream",
     "text": [
      "686\n"
     ]
    }
   ],
   "source": [
    "# Part two\n",
    "num_matching = 0\n",
    "for ii in range(ran_min, ran_max+1):\n",
    "    num_matching = num_matching + check_adjacent_partII(ii)\n",
    "    \n",
    "print(num_matching)"
   ]
  },
  {
   "cell_type": "code",
   "execution_count": null,
   "metadata": {},
   "outputs": [],
   "source": []
  }
 ],
 "metadata": {
  "kernelspec": {
   "display_name": "gpss",
   "language": "python",
   "name": "gpss"
  },
  "language_info": {
   "codemirror_mode": {
    "name": "ipython",
    "version": 3
   },
   "file_extension": ".py",
   "mimetype": "text/x-python",
   "name": "python",
   "nbconvert_exporter": "python",
   "pygments_lexer": "ipython3",
   "version": "3.7.3"
  }
 },
 "nbformat": 4,
 "nbformat_minor": 2
}
