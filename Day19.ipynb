{
 "cells": [
  {
   "cell_type": "code",
   "execution_count": 1,
   "metadata": {},
   "outputs": [],
   "source": [
    "%load_ext autoreload\n",
    "%autoreload 2\n",
    "\n",
    "import numpy as np\n",
    "import Intcode as ic\n",
    "import matplotlib.pyplot as plt\n",
    "import time"
   ]
  },
  {
   "cell_type": "code",
   "execution_count": 2,
   "metadata": {},
   "outputs": [],
   "source": [
    "# Input\n",
    "program = [109,424,203,1,21101,11,0,0,1105,1,282,21102,18,1,0,1105,1,259,1201,1,0,221,203,1,21102,1,31,0,1105,1,282,21101,38,0,0,1105,1,259,20102,1,23,2,21202,1,1,3,21102,1,1,1,21101,0,57,0,1106,0,303,1201,1,0,222,21001,221,0,3,21002,221,1,2,21101,0,259,1,21102,80,1,0,1106,0,225,21102,1,93,2,21101,0,91,0,1105,1,303,2102,1,1,223,21002,222,1,4,21101,0,259,3,21102,225,1,2,21101,0,225,1,21102,1,118,0,1105,1,225,21001,222,0,3,21101,0,73,2,21101,133,0,0,1105,1,303,21202,1,-1,1,22001,223,1,1,21101,148,0,0,1106,0,259,2102,1,1,223,20101,0,221,4,21001,222,0,3,21102,1,11,2,1001,132,-2,224,1002,224,2,224,1001,224,3,224,1002,132,-1,132,1,224,132,224,21001,224,1,1,21102,195,1,0,105,1,109,20207,1,223,2,21002,23,1,1,21101,-1,0,3,21101,214,0,0,1105,1,303,22101,1,1,1,204,1,99,0,0,0,0,109,5,2101,0,-4,249,22101,0,-3,1,22101,0,-2,2,21201,-1,0,3,21101,250,0,0,1106,0,225,22101,0,1,-4,109,-5,2106,0,0,109,3,22107,0,-2,-1,21202,-1,2,-1,21201,-1,-1,-1,22202,-1,-2,-2,109,-3,2105,1,0,109,3,21207,-2,0,-1,1206,-1,294,104,0,99,22101,0,-2,-2,109,-3,2105,1,0,109,5,22207,-3,-4,-1,1206,-1,346,22201,-4,-3,-4,21202,-3,-1,-1,22201,-4,-1,2,21202,2,-1,-1,22201,-4,-1,1,21202,-2,1,3,21102,1,343,0,1106,0,303,1106,0,415,22207,-2,-3,-1,1206,-1,387,22201,-3,-2,-3,21202,-2,-1,-1,22201,-3,-1,3,21202,3,-1,-1,22201,-3,-1,2,22101,0,-4,1,21102,1,384,0,1105,1,303,1105,1,415,21202,-4,-1,-4,22201,-4,-3,-4,22202,-3,-2,-2,22202,-2,-4,-4,22202,-3,-2,-3,21202,-4,-1,-2,22201,-3,-2,1,21202,1,1,-4,109,-5,2105,1,0]"
   ]
  },
  {
   "cell_type": "code",
   "execution_count": 3,
   "metadata": {},
   "outputs": [
    {
     "name": "stdout",
     "output_type": "stream",
     "text": [
      "0.7250378131866455\n",
      "Part one solution:\n",
      "144\n"
     ]
    }
   ],
   "source": [
    "# Part one\n",
    "start = time.time()\n",
    "N = 50\n",
    "grid = np.ones((N, N))*-1\n",
    "\n",
    "for xx in range(0, N):\n",
    "    found_yet = False\n",
    "    for yy in range(xx, N):\n",
    "\n",
    "#         program = [109,424,203,1,21101,11,0,0,1105,1,282,21102,18,1,0,1105,1,259,1201,1,0,221,203,1,21102,1,31,0,1105,1,282,21101,38,0,0,1105,1,259,20102,1,23,2,21202,1,1,3,21102,1,1,1,21101,0,57,0,1106,0,303,1201,1,0,222,21001,221,0,3,21002,221,1,2,21101,0,259,1,21102,80,1,0,1106,0,225,21102,1,93,2,21101,0,91,0,1105,1,303,2102,1,1,223,21002,222,1,4,21101,0,259,3,21102,225,1,2,21101,0,225,1,21102,1,118,0,1105,1,225,21001,222,0,3,21101,0,73,2,21101,133,0,0,1105,1,303,21202,1,-1,1,22001,223,1,1,21101,148,0,0,1106,0,259,2102,1,1,223,20101,0,221,4,21001,222,0,3,21102,1,11,2,1001,132,-2,224,1002,224,2,224,1001,224,3,224,1002,132,-1,132,1,224,132,224,21001,224,1,1,21102,195,1,0,105,1,109,20207,1,223,2,21002,23,1,1,21101,-1,0,3,21101,214,0,0,1105,1,303,22101,1,1,1,204,1,99,0,0,0,0,109,5,2101,0,-4,249,22101,0,-3,1,22101,0,-2,2,21201,-1,0,3,21101,250,0,0,1106,0,225,22101,0,1,-4,109,-5,2106,0,0,109,3,22107,0,-2,-1,21202,-1,2,-1,21201,-1,-1,-1,22202,-1,-2,-2,109,-3,2105,1,0,109,3,21207,-2,0,-1,1206,-1,294,104,0,99,22101,0,-2,-2,109,-3,2105,1,0,109,5,22207,-3,-4,-1,1206,-1,346,22201,-4,-3,-4,21202,-3,-1,-1,22201,-4,-1,2,21202,2,-1,-1,22201,-4,-1,1,21202,-2,1,3,21102,1,343,0,1106,0,303,1106,0,415,22207,-2,-3,-1,1206,-1,387,22201,-3,-2,-3,21202,-2,-1,-1,22201,-3,-1,3,21202,3,-1,-1,22201,-3,-1,2,22101,0,-4,1,21102,1,384,0,1105,1,303,1105,1,415,21202,-4,-1,-4,22201,-4,-3,-4,22202,-3,-2,-2,22202,-2,-4,-4,22202,-3,-2,-3,21202,-4,-1,-2,22201,-3,-2,1,21202,1,1,-4,109,-5,2105,1,0]\n",
    "        program = [109,424,203,1,21101,11,0,0,1105,1,282,21102,18,1,0,1105,1,259,1201,1,0,221,203,1,21102,1,31,0,1105,1,282,21101,38,0,0,1105,1,259,20102,1,23,2,21202,1,1,3,21102,1,1,1,21101,0,57,0,1106,0,303,1201,1,0,222,21001,221,0,3,21002,221,1,2,21101,0,259,1,21102,80,1,0,1106,0,225,21102,1,93,2,21101,0,91,0,1105,1,303,2102,1,1,223,21002,222,1,4,21101,0,259,3,21102,225,1,2,21101,0,225,1,21102,1,118,0,1105,1,225,21001,222,0,3,21101,0,73,2,21101,133,0,0,1105,1,303,21202,1,-1,1,22001,223,1,1,21101,148,0,0,1106,0,259,2102,1,1,223,20101,0,221,4,21001,222,0,3,21102,1,11,2,1001,132,-2,224,1002,224,2,224,1001,224,3,224,1002,132,-1,132,1,224,132,224,21001,224,1,1,21102,195,1,0,105,1,109,20207,1,223,2,21002,23,1,1,21101,-1,0,3,21101,214,0,0,1105,1,303,22101,1,1,1,204,1,99,0,0,0,0,109,5,2101,0,-4,249,22101,0,-3,1,22101,0,-2,2,21201,-1,0,3,21101,250,0,0,1106,0,225,22101,0,1,-4,109,-5,2106,0,0,109,3,22107,0,-2,-1,21202,-1,2,-1,21201,-1,-1,-1,22202,-1,-2,-2,109,-3,2105,1,0,109,3,21207,-2,0,-1,1206,-1,294,104,0,99,22101,0,-2,-2,109,-3,2105,1,0,109,5,22207,-3,-4,-1,1206,-1,346,22201,-4,-3,-4,21202,-3,-1,-1,22201,-4,-1,2,21202,2,-1,-1,22201,-4,-1,1,21202,-2,1,3,21102,1,343,0,1106,0,303,1106,0,415,22207,-2,-3,-1,1206,-1,387,22201,-3,-2,-3,21202,-2,-1,-1,22201,-3,-1,3,21202,3,-1,-1,22201,-3,-1,2,22101,0,-4,1,21102,1,384,0,1105,1,303,1105,1,415,21202,-4,-1,-4,22201,-4,-3,-4,22202,-3,-2,-2,22202,-2,-4,-4,22202,-3,-2,-3,21202,-4,-1,-2,22201,-3,-2,1,21202,1,1,-4,109,-5,2105,1,0]    \n",
    "        inp_list = [xx, yy]\n",
    "        out_list = []\n",
    "        ic.run_computer(program + [0]*100, inp_val=inp_list, verbose=False, out_val=out_list, \n",
    "                         cur=0, inp_index=0, rel_index=0)\n",
    "        grid[xx, yy] = out_list[-1]\n",
    "        if found_yet and not grid[xx, yy]:\n",
    "            break\n",
    "        if not found_yet and grid[xx, yy]:\n",
    "            found_yet = True\n",
    "            \n",
    "end = time.time()\n",
    "print(end-start)\n",
    "print('Part one solution:')\n",
    "print(np.count_nonzero(grid == 1))"
   ]
  },
  {
   "cell_type": "code",
   "execution_count": 4,
   "metadata": {},
   "outputs": [],
   "source": [
    "# Check all, 100: 22\n",
    "# Stop after, 100: 14\n",
    "# Both, 100: 3.49"
   ]
  },
  {
   "cell_type": "code",
   "execution_count": 5,
   "metadata": {},
   "outputs": [
    {
     "data": {
      "text/plain": [
       "<matplotlib.collections.QuadMesh at 0x1c843ecc2e8>"
      ]
     },
     "execution_count": 5,
     "metadata": {},
     "output_type": "execute_result"
    },
    {
     "data": {
      "image/png": "[encoded data removed]",
      "text/plain": [
       "<Figure size 432x288 with 1 Axes>"
      ]
     },
     "metadata": {
      "needs_background": "light"
     },
     "output_type": "display_data"
    }
   ],
   "source": [
    "plt.pcolormesh(grid[20:, 20:])"
   ]
  },
  {
   "cell_type": "code",
   "execution_count": 7,
   "metadata": {},
   "outputs": [
    {
     "name": "stdout",
     "output_type": "stream",
     "text": [
      "34.720465421676636\n"
     ]
    }
   ],
   "source": [
    "start = time.time()\n",
    "\n",
    "M = 100\n",
    "\n",
    "N = 300\n",
    "\n",
    "offset_x = 1360\n",
    "offset_y = 1510\n",
    "\n",
    "grid = np.ones((N, N))*-1\n",
    "\n",
    "\n",
    "count_x = 0\n",
    "for xx in range(1360, 1500):\n",
    "    found_yet = False\n",
    "    count_y = 0\n",
    "    for yy in range(xx+150, 1800):\n",
    "\n",
    "        program = [109,424,203,1,21101,11,0,0,1105,1,282,21102,18,1,0,1105,1,259,1201,1,0,221,203,1,21102,1,31,0,1105,1,282,21101,38,0,0,1105,1,259,20102,1,23,2,21202,1,1,3,21102,1,1,1,21101,0,57,0,1106,0,303,1201,1,0,222,21001,221,0,3,21002,221,1,2,21101,0,259,1,21102,80,1,0,1106,0,225,21102,1,93,2,21101,0,91,0,1105,1,303,2102,1,1,223,21002,222,1,4,21101,0,259,3,21102,225,1,2,21101,0,225,1,21102,1,118,0,1105,1,225,21001,222,0,3,21101,0,73,2,21101,133,0,0,1105,1,303,21202,1,-1,1,22001,223,1,1,21101,148,0,0,1106,0,259,2102,1,1,223,20101,0,221,4,21001,222,0,3,21102,1,11,2,1001,132,-2,224,1002,224,2,224,1001,224,3,224,1002,132,-1,132,1,224,132,224,21001,224,1,1,21102,195,1,0,105,1,109,20207,1,223,2,21002,23,1,1,21101,-1,0,3,21101,214,0,0,1105,1,303,22101,1,1,1,204,1,99,0,0,0,0,109,5,2101,0,-4,249,22101,0,-3,1,22101,0,-2,2,21201,-1,0,3,21101,250,0,0,1106,0,225,22101,0,1,-4,109,-5,2106,0,0,109,3,22107,0,-2,-1,21202,-1,2,-1,21201,-1,-1,-1,22202,-1,-2,-2,109,-3,2105,1,0,109,3,21207,-2,0,-1,1206,-1,294,104,0,99,22101,0,-2,-2,109,-3,2105,1,0,109,5,22207,-3,-4,-1,1206,-1,346,22201,-4,-3,-4,21202,-3,-1,-1,22201,-4,-1,2,21202,2,-1,-1,22201,-4,-1,1,21202,-2,1,3,21102,1,343,0,1106,0,303,1106,0,415,22207,-2,-3,-1,1206,-1,387,22201,-3,-2,-3,21202,-2,-1,-1,22201,-3,-1,3,21202,3,-1,-1,22201,-3,-1,2,22101,0,-4,1,21102,1,384,0,1105,1,303,1105,1,415,21202,-4,-1,-4,22201,-4,-3,-4,22202,-3,-2,-2,22202,-2,-4,-4,22202,-3,-2,-3,21202,-4,-1,-2,22201,-3,-2,1,21202,1,1,-4,109,-5,2105,1,0]\n",
    "        inp_list = [xx, yy]\n",
    "        out_list = []\n",
    "        ic.run_computer(program + [0]*100, inp_val=inp_list, verbose=False, out_val=out_list, \n",
    "                         cur=0, inp_index=0, rel_index=0)\n",
    "        grid[xx-offset_x, yy-offset_y] = out_list[-1]\n",
    "        if found_yet and not grid[xx-offset_x, yy-offset_y]:\n",
    "            break\n",
    "        elif found_yet:\n",
    "            count_y = count_y + 1\n",
    "        if not found_yet and grid[xx-offset_x, yy-offset_y]:\n",
    "            found_yet = True\n",
    "            count_y = 1\n",
    "    if count_y >= 100:\n",
    "        count_x = count_x + 1\n",
    "    else:\n",
    "        count_x = 0\n",
    "        \n",
    "end = time.time()\n",
    "print(end-start)"
   ]
  },
  {
   "cell_type": "code",
   "execution_count": 8,
   "metadata": {},
   "outputs": [
    {
     "data": {
      "text/plain": [
       "<matplotlib.collections.QuadMesh at 0x1c8441732e8>"
      ]
     },
     "execution_count": 8,
     "metadata": {},
     "output_type": "execute_result"
    },
    {
     "data": {
      "image/png": "[encoded data removed]",
      "text/plain": [
       "<Figure size 432x288 with 1 Axes>"
      ]
     },
     "metadata": {
      "needs_background": "light"
     },
     "output_type": "display_data"
    }
   ],
   "source": [
    "plt.pcolormesh(grid[:150,:])"
   ]
  },
  {
   "cell_type": "code",
   "execution_count": 9,
   "metadata": {},
   "outputs": [],
   "source": [
    "# Search from point that was first true previous one\n",
    "# Search from point that was last true previous one\n",
    "# Count missing: jump forward by amount missing (assume straight line)"
   ]
  },
  {
   "cell_type": "code",
   "execution_count": 10,
   "metadata": {},
   "outputs": [],
   "source": [
    "def check_xx_yy(xx, yy):\n",
    "    program = [109,424,203,1,21101,11,0,0,1105,1,282,21102,18,1,0,1105,1,259,1201,1,0,221,203,1,21102,1,31,0,1105,1,282,21101,38,0,0,1105,1,259,20102,1,23,2,21202,1,1,3,21102,1,1,1,21101,0,57,0,1106,0,303,1201,1,0,222,21001,221,0,3,21002,221,1,2,21101,0,259,1,21102,80,1,0,1106,0,225,21102,1,93,2,21101,0,91,0,1105,1,303,2102,1,1,223,21002,222,1,4,21101,0,259,3,21102,225,1,2,21101,0,225,1,21102,1,118,0,1105,1,225,21001,222,0,3,21101,0,73,2,21101,133,0,0,1105,1,303,21202,1,-1,1,22001,223,1,1,21101,148,0,0,1106,0,259,2102,1,1,223,20101,0,221,4,21001,222,0,3,21102,1,11,2,1001,132,-2,224,1002,224,2,224,1001,224,3,224,1002,132,-1,132,1,224,132,224,21001,224,1,1,21102,195,1,0,105,1,109,20207,1,223,2,21002,23,1,1,21101,-1,0,3,21101,214,0,0,1105,1,303,22101,1,1,1,204,1,99,0,0,0,0,109,5,2101,0,-4,249,22101,0,-3,1,22101,0,-2,2,21201,-1,0,3,21101,250,0,0,1106,0,225,22101,0,1,-4,109,-5,2106,0,0,109,3,22107,0,-2,-1,21202,-1,2,-1,21201,-1,-1,-1,22202,-1,-2,-2,109,-3,2105,1,0,109,3,21207,-2,0,-1,1206,-1,294,104,0,99,22101,0,-2,-2,109,-3,2105,1,0,109,5,22207,-3,-4,-1,1206,-1,346,22201,-4,-3,-4,21202,-3,-1,-1,22201,-4,-1,2,21202,2,-1,-1,22201,-4,-1,1,21202,-2,1,3,21102,1,343,0,1106,0,303,1106,0,415,22207,-2,-3,-1,1206,-1,387,22201,-3,-2,-3,21202,-2,-1,-1,22201,-3,-1,3,21202,3,-1,-1,22201,-3,-1,2,22101,0,-4,1,21102,1,384,0,1105,1,303,1105,1,415,21202,-4,-1,-4,22201,-4,-3,-4,22202,-3,-2,-2,22202,-2,-4,-4,22202,-3,-2,-3,21202,-4,-1,-2,22201,-3,-2,1,21202,1,1,-4,109,-5,2105,1,0]\n",
    "    inp_list = [xx, yy]\n",
    "    out_list = []\n",
    "    ic.run_computer(program + [0]*100, inp_val=inp_list, verbose=False, out_val=out_list, \n",
    "                         cur=0, inp_index=0, rel_index=0)\n",
    "    return out_list[-1]\n",
    "    "
   ]
  },
  {
   "cell_type": "code",
   "execution_count": 11,
   "metadata": {},
   "outputs": [
    {
     "name": "stdout",
     "output_type": "stream",
     "text": [
      "0.07310605049133301\n",
      "Found\n",
      "1356\n",
      "1637\n",
      "9.35841679573059\n"
     ]
    }
   ],
   "source": [
    "start = time.time()\n",
    "\n",
    "M = 100\n",
    "\n",
    "N = 3*1000\n",
    "\n",
    "grid = np.ones((N, int(1.25*N)))*-1\n",
    "mid = time.time()\n",
    "print(mid-start)\n",
    "\n",
    "count_x = 0\n",
    "prev_first_yy_true = 0\n",
    "prev_last_yy_true = 20\n",
    "xx = 20\n",
    "while xx < N:\n",
    "    found_yet = False\n",
    "    count_y = 0\n",
    "    yy = prev_first_yy_true\n",
    "    while not check_xx_yy(xx, yy):\n",
    "        grid[xx, yy] = 0\n",
    "        yy = yy + 1\n",
    "    prev_first_yy_true = yy\n",
    "    grid[xx, yy] = 1\n",
    "    \n",
    "    yy = max(yy, prev_last_yy_true)\n",
    "    while check_xx_yy(xx, yy):\n",
    "        yy = yy + 1\n",
    "        grid[xx, yy] = 1\n",
    "    grid[xx, yy] = 0\n",
    "    prev_last_yy_true = yy - 1\n",
    "    \n",
    "    if check_xx_yy(xx+99, yy-99-1):\n",
    "        print('Found')\n",
    "        print(xx)\n",
    "        print(yy)\n",
    "        break\n",
    "    \n",
    "    count_y = prev_last_yy_true - prev_first_yy_true + 1\n",
    "    if count_y >= 100:\n",
    "        count_x = count_x + 1\n",
    "        xx = xx + 1\n",
    "    else:\n",
    "        count_x = 0\n",
    "        xx = xx + (M-count_y)\n",
    "#     xx = xx + 1\n",
    "end = time.time()\n",
    "print(end-start)"
   ]
  },
  {
   "cell_type": "code",
   "execution_count": 12,
   "metadata": {},
   "outputs": [],
   "source": [
    "xx_found = 1356 ## xx\n",
    "yy_found = 1537 ## yy - 99 - 1"
   ]
  },
  {
   "cell_type": "code",
   "execution_count": 13,
   "metadata": {},
   "outputs": [
    {
     "data": {
      "text/plain": [
       "13561537"
      ]
     },
     "execution_count": 13,
     "metadata": {},
     "output_type": "execute_result"
    }
   ],
   "source": [
    "# Part two solution\n",
    "xx_found*10000+yy_found"
   ]
  },
  {
   "cell_type": "code",
   "execution_count": null,
   "metadata": {},
   "outputs": [],
   "source": []
  }
 ],
 "metadata": {
  "kernelspec": {
   "display_name": "gpss",
   "language": "python",
   "name": "gpss"
  },
  "language_info": {
   "codemirror_mode": {
    "name": "ipython",
    "version": 3
   },
   "file_extension": ".py",
   "mimetype": "text/x-python",
   "name": "python",
   "nbconvert_exporter": "python",
   "pygments_lexer": "ipython3",
   "version": "3.7.3"
  }
 },
 "nbformat": 4,
 "nbformat_minor": 2
}
