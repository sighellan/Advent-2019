{
 "cells": [
  {
   "cell_type": "code",
   "execution_count": 1,
   "metadata": {},
   "outputs": [],
   "source": [
    "example_inp = ['COM)B',\n",
    "'B)C',\n",
    "'C)D',\n",
    "'D)E',\n",
    "'E)F',\n",
    "'B)G',\n",
    "'G)H',\n",
    "'D)I',\n",
    "'E)J',\n",
    "'J)K',\n",
    "'K)L']"
   ]
  },
  {
   "cell_type": "code",
   "execution_count": 2,
   "metadata": {},
   "outputs": [],
   "source": [
    "def create_map(example_inp):\n",
    "    space_map = {}\n",
    "    for pair in example_inp:\n",
    "        aa = pair.split(')')[0]\n",
    "        bb = pair.split(')')[1]\n",
    "        try:\n",
    "            space_map[bb].append(aa)\n",
    "            print('Warning!')\n",
    "        except:\n",
    "            space_map[bb] = [aa]\n",
    "    if 'COM' in space_map.keys():\n",
    "        print('COM warning')\n",
    "    return space_map"
   ]
  },
  {
   "cell_type": "code",
   "execution_count": 3,
   "metadata": {},
   "outputs": [
    {
     "data": {
      "text/plain": [
       "{'B': ['COM'],\n",
       " 'C': ['B'],\n",
       " 'D': ['C'],\n",
       " 'E': ['D'],\n",
       " 'F': ['E'],\n",
       " 'G': ['B'],\n",
       " 'H': ['G'],\n",
       " 'I': ['D'],\n",
       " 'J': ['E'],\n",
       " 'K': ['J'],\n",
       " 'L': ['K']}"
      ]
     },
     "execution_count": 3,
     "metadata": {},
     "output_type": "execute_result"
    }
   ],
   "source": [
    "# Example\n",
    "star_map = create_map(example_inp)\n",
    "star_map"
   ]
  },
  {
   "cell_type": "code",
   "execution_count": 4,
   "metadata": {},
   "outputs": [],
   "source": [
    "def count_dir_orbits_xx(xx, space_map):\n",
    "    return 1\n",
    "\n",
    "def count_orbits_rec(space_map, ind_map, xx):\n",
    "    if xx in ind_map.keys():\n",
    "        return ind_map[xx]\n",
    "    if xx == 'COM':\n",
    "        return -1\n",
    "    else:\n",
    "#         if space_map[xx] in ind_map.keys():\n",
    "#             ind_map[xx] = ind_map[space_map[xx]]+1\n",
    "#             return ind_map[xx]\n",
    "#         else:\n",
    "        ind_map[xx] = 1 + count_orbits_rec(space_map, ind_map, space_map[xx][0])\n",
    "        return ind_map[xx]\n",
    "\n",
    "def count_orbits(space_map):\n",
    "    ind_map = {}\n",
    "    dir_orbits_count = 0\n",
    "    ind_orbits_count = 0\n",
    "    for key in space_map.keys():\n",
    "        dir_orbit = 1\n",
    "        \n",
    "        ind_orbit = count_orbits_rec(space_map, ind_map, key)\n",
    "        \n",
    "        dir_orbits_count = dir_orbits_count + dir_orbit\n",
    "        ind_orbits_count = ind_orbits_count + ind_orbit\n",
    "        \n",
    "    return dir_orbits_count, ind_orbits_count\n",
    "        "
   ]
  },
  {
   "cell_type": "code",
   "execution_count": 5,
   "metadata": {},
   "outputs": [
    {
     "data": {
      "text/plain": [
       "(11, 31)"
      ]
     },
     "execution_count": 5,
     "metadata": {},
     "output_type": "execute_result"
    }
   ],
   "source": [
    "# Example\n",
    "count_orbits(star_map)"
   ]
  },
  {
   "cell_type": "code",
   "execution_count": 6,
   "metadata": {},
   "outputs": [],
   "source": [
    "# Part one input\n",
    "lineList = [line. rstrip('\\n') for line in open('inp6a.txt')]"
   ]
  },
  {
   "cell_type": "code",
   "execution_count": 7,
   "metadata": {},
   "outputs": [
    {
     "name": "stdout",
     "output_type": "stream",
     "text": [
      "(1868, 306922)\n",
      "308790\n"
     ]
    }
   ],
   "source": [
    "# Part one\n",
    "star_map = create_map(lineList)\n",
    "\n",
    "dir_orb, ind_orb = count_orbits(star_map)\n",
    "print((dir_orb, ind_orb))\n",
    "print(dir_orb+ind_orb)"
   ]
  },
  {
   "cell_type": "code",
   "execution_count": 8,
   "metadata": {},
   "outputs": [],
   "source": [
    "\n",
    "def move_person(per_loc, space_map, santa_map, santa_mode):\n",
    "    if per_loc == 'COM':\n",
    "        return santa_map\n",
    "    new_loc = space_map[per_loc][0]\n",
    "    new_dist = santa_map[per_loc] + 1\n",
    "    if santa_mode:\n",
    "        santa_map[new_loc] = new_dist\n",
    "        return move_person(new_loc, space_map, santa_map, santa_mode)\n",
    "    else:\n",
    "        if new_loc in santa_map.keys():\n",
    "            return new_dist + santa_map[new_loc]\n",
    "        santa_map[new_loc] = new_dist\n",
    "        return move_person(new_loc, space_map, santa_map, santa_mode)\n",
    "        \n",
    "    "
   ]
  },
  {
   "cell_type": "code",
   "execution_count": 9,
   "metadata": {},
   "outputs": [
    {
     "data": {
      "text/plain": [
       "472"
      ]
     },
     "execution_count": 9,
     "metadata": {},
     "output_type": "execute_result"
    }
   ],
   "source": [
    "# Part two\n",
    "\n",
    "santa_map = {}\n",
    "per_loc = star_map['SAN'][0]\n",
    "santa_map[per_loc] = 0\n",
    "santa_map = move_person(per_loc, star_map, santa_map, True)\n",
    "\n",
    "per_loc = star_map['YOU'][0]\n",
    "santa_map[per_loc] = 0\n",
    "move_person(per_loc, star_map, santa_map, False)"
   ]
  },
  {
   "cell_type": "code",
   "execution_count": null,
   "metadata": {},
   "outputs": [],
   "source": []
  }
 ],
 "metadata": {
  "kernelspec": {
   "display_name": "Python 3",
   "language": "python",
   "name": "python3"
  },
  "language_info": {
   "codemirror_mode": {
    "name": "ipython",
    "version": 3
   },
   "file_extension": ".py",
   "mimetype": "text/x-python",
   "name": "python",
   "nbconvert_exporter": "python",
   "pygments_lexer": "ipython3",
   "version": "3.7.3"
  }
 },
 "nbformat": 4,
 "nbformat_minor": 2
}
