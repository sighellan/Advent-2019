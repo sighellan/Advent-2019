{
 "cells": [
  {
   "cell_type": "code",
   "execution_count": 1,
   "metadata": {},
   "outputs": [],
   "source": [
    "def do_add(ll, ii_1, ii_2, ii_3, imme_bool):\n",
    "    if not imme_bool:\n",
    "        try:\n",
    "            ll[ii_3] = ii_1 + ii_2\n",
    "        except:\n",
    "            print((ii_1, ii_2, ii_3))\n",
    "            print(ll)\n",
    "    return 4\n",
    "    \n",
    "def do_mul(ll, ii_1, ii_2, ii_3, imme_bool):\n",
    "    if not imme_bool:\n",
    "        ll[ii_3] = ii_1 * ii_2\n",
    "    return 4\n",
    "\n",
    "def do_store(ll, ii_1, inp_val, imme_bool):\n",
    "    if not imme_bool:\n",
    "        ll[ii_1] = inp_val\n",
    "    return 2\n",
    "\n",
    "def do_output(ll, ii_1, verbose):\n",
    "    if verbose:\n",
    "        print(ii_1)\n",
    "    return 2\n",
    "\n",
    "def jump_if_true(ii_1, ii_2, cur):\n",
    "    if ii_1:\n",
    "        return ii_2 \n",
    "    return cur + 3\n",
    "\n",
    "def jump_if_false(ii_1, ii_2, cur):\n",
    "    if not ii_1:\n",
    "        return ii_2 \n",
    "    return cur + 3\n",
    "\n",
    "def do_less_than(ll, ii_1, ii_2, ii_3):\n",
    "    if ii_1 < ii_2:\n",
    "        ll[ii_3] = 1\n",
    "    else:\n",
    "        ll[ii_3] = 0\n",
    "    return 4\n",
    "\n",
    "def do_equals(ll, ii_1, ii_2, ii_3):\n",
    "    if ii_1 == ii_2:\n",
    "        ll[ii_3] = 1\n",
    "    else:\n",
    "        ll[ii_3] = 0\n",
    "    return 4\n",
    "    \n",
    "\n",
    "def set_up_single(jj, ll, cur, pos_code=False):   \n",
    "    param = str(ll[cur])[:-2]\n",
    "    if len(param) >=jj and int(param[len(param)-jj]):\n",
    "        return ll[cur+jj], True\n",
    "    else:\n",
    "        if pos_code:\n",
    "            return ll[cur+jj], False\n",
    "        else:\n",
    "            return ll[ll[cur+jj]], False\n",
    "\n",
    "def set_up_inputs_len_3(ll, cur):\n",
    "    ii_3, imme_bool = set_up_single(3, ll, cur, pos_code=True)\n",
    "    ii_2, _ = set_up_single(2, ll, cur)\n",
    "    ii_1, _ = set_up_single(1, ll, cur)\n",
    "    return ii_1, ii_2, ii_3, imme_bool\n",
    "\n",
    "def get_inp_val(inp_index, inp_val):\n",
    "    cur_inp_val = inp_val[inp_index]\n",
    "    return cur_inp_val, inp_index + 1\n",
    "    \n",
    "    \n",
    "def run_computer(ll, inp_val, verbose=True, out_val=[], cur=0, inp_index=0):\n",
    "    # Provide all inputs so computer can be restarted from previous settings\n",
    "    while ll[cur] % 100 != 99:\n",
    "        \n",
    "        if ll[cur] % 100 == 1:\n",
    "            ii_1, ii_2, ii_3, imme_bool = set_up_inputs_len_3(ll, cur)\n",
    "            cur = cur + do_add(ll, ii_1, ii_2, ii_3, imme_bool)\n",
    "        elif ll[cur] % 100 == 2:\n",
    "            ii_1, ii_2, ii_3, imme_bool = set_up_inputs_len_3(ll, cur)\n",
    "            cur = cur + do_mul(ll, ii_1, ii_2, ii_3, imme_bool)\n",
    "        elif ll[cur] % 100 == 3:\n",
    "            if len(inp_val) <= inp_index: # Wait till other machines have run so input is available\n",
    "                return [cur, inp_index], False\n",
    "            ii_1, imme_bool = set_up_single(1, ll, cur, pos_code=True)\n",
    "            cur_inp_val, inp_index = get_inp_val(inp_index, inp_val)\n",
    "            cur = cur + do_store(ll, ii_1, cur_inp_val, imme_bool)\n",
    "        elif ll[cur] % 100 == 4:\n",
    "            ii_1, imme_bool = set_up_single(1, ll, cur, pos_code=False)\n",
    "            last_output = ii_1\n",
    "            out_val.append(last_output)\n",
    "            cur = cur + do_output(ll, ii_1, verbose)\n",
    "        elif ll[cur] % 100 == 5:\n",
    "            ii_1, _ = set_up_single(1, ll, cur)\n",
    "            ii_2, _ = set_up_single(2, ll, cur)\n",
    "            cur = jump_if_true(ii_1, ii_2, cur)\n",
    "        elif ll[cur] % 100 == 6:\n",
    "            ii_1, _ = set_up_single(1, ll, cur)\n",
    "            ii_2, _ = set_up_single(2, ll, cur)\n",
    "            cur = jump_if_false(ii_1, ii_2, cur)\n",
    "        elif ll[cur] % 100 == 7:\n",
    "            ii_1, ii_2, ii_3, imme_bool = set_up_inputs_len_3(ll, cur)\n",
    "            cur = cur + do_less_than(ll, ii_1, ii_2, ii_3)\n",
    "        elif ll[cur] % 100 == 8:\n",
    "            ii_1, ii_2, ii_3, imme_bool = set_up_inputs_len_3(ll, cur)\n",
    "            cur = cur + do_equals(ll, ii_1, ii_2, ii_3)\n",
    "        else:\n",
    "            print(ll)\n",
    "            raise ValueError\n",
    "#     return ll\n",
    "    return last_output, True\n",
    "    "
   ]
  },
  {
   "cell_type": "code",
   "execution_count": 2,
   "metadata": {},
   "outputs": [],
   "source": [
    "import itertools\n",
    "import copy\n",
    "import numpy as np"
   ]
  },
  {
   "cell_type": "code",
   "execution_count": 3,
   "metadata": {},
   "outputs": [],
   "source": [
    "\n",
    "def check_phases(inp_program_original):\n",
    "    phase_settings = list(itertools.permutations([0, 1, 2, 3, 4]))\n",
    "    best_output = -np.inf\n",
    "    best_phases = []\n",
    "    for phases in phase_settings:\n",
    "\n",
    "        last_val = 0 \n",
    "    #     phases = [4, 3, 2, 1, 0]\n",
    "        for ii in range(5):\n",
    "            inp_program = copy.deepcopy(inp_program_original)\n",
    "            inp_val = [phases[ii], last_val]\n",
    "            last_val, _ = run_computer(inp_program, inp_val, verbose=False)\n",
    "        if last_val > best_output:\n",
    "            best_output = last_val\n",
    "            best_phases = phases\n",
    "\n",
    "    return (best_output, best_phases)"
   ]
  },
  {
   "cell_type": "code",
   "execution_count": 4,
   "metadata": {},
   "outputs": [
    {
     "data": {
      "text/plain": [
       "(43210, (4, 3, 2, 1, 0))"
      ]
     },
     "execution_count": 4,
     "metadata": {},
     "output_type": "execute_result"
    }
   ],
   "source": [
    "# Example one\n",
    "check_phases([3,15,3,16,1002,16,10,16,1,16,15,15,4,15,99,0,0])"
   ]
  },
  {
   "cell_type": "code",
   "execution_count": 5,
   "metadata": {},
   "outputs": [
    {
     "data": {
      "text/plain": [
       "(54321, (0, 1, 2, 3, 4))"
      ]
     },
     "execution_count": 5,
     "metadata": {},
     "output_type": "execute_result"
    }
   ],
   "source": [
    "# Example two\n",
    "check_phases([3,23,3,24,1002,24,10,24,1002,23,-1,23,101,5,23,23,1,24,23,23,4,23,99,0,0])"
   ]
  },
  {
   "cell_type": "code",
   "execution_count": 6,
   "metadata": {},
   "outputs": [
    {
     "data": {
      "text/plain": [
       "(65210, (1, 0, 4, 3, 2))"
      ]
     },
     "execution_count": 6,
     "metadata": {},
     "output_type": "execute_result"
    }
   ],
   "source": [
    "# Example three\n",
    "check_phases([3,31,3,32,1002,32,10,32,1001,31,-2,31,1007,31,0,33,1002,33,7,33,1,33,31,31,1,32,31,31,4,31,99,0,0,0])"
   ]
  },
  {
   "cell_type": "code",
   "execution_count": 7,
   "metadata": {},
   "outputs": [],
   "source": [
    "# Part one input\n",
    "inp_list = [3,8,1001,8,10,8,105,1,0,0,21,42,67,76,89,110,191,272,353,434,99999,3,9,102,2,9,9,1001,9,2,9,1002,9,2,9,1001,9,2,9,4,9,99,3,9,1001,9,4,9,102,4,9,9,101,3,9,9,1002,9,2,9,1001,9,4,9,4,9,99,3,9,102,5,9,9,4,9,99,3,9,1001,9,3,9,1002,9,3,9,4,9,99,3,9,102,3,9,9,101,2,9,9,1002,9,3,9,101,5,9,9,4,9,99,3,9,1001,9,2,9,4,9,3,9,102,2,9,9,4,9,3,9,1001,9,1,9,4,9,3,9,102,2,9,9,4,9,3,9,1001,9,1,9,4,9,3,9,102,2,9,9,4,9,3,9,1002,9,2,9,4,9,3,9,1002,9,2,9,4,9,3,9,1002,9,2,9,4,9,3,9,1002,9,2,9,4,9,99,3,9,102,2,9,9,4,9,3,9,101,1,9,9,4,9,3,9,101,1,9,9,4,9,3,9,102,2,9,9,4,9,3,9,1002,9,2,9,4,9,3,9,1002,9,2,9,4,9,3,9,101,2,9,9,4,9,3,9,101,1,9,9,4,9,3,9,101,2,9,9,4,9,3,9,101,2,9,9,4,9,99,3,9,102,2,9,9,4,9,3,9,102,2,9,9,4,9,3,9,1002,9,2,9,4,9,3,9,102,2,9,9,4,9,3,9,101,1,9,9,4,9,3,9,102,2,9,9,4,9,3,9,101,2,9,9,4,9,3,9,101,2,9,9,4,9,3,9,1001,9,1,9,4,9,3,9,101,2,9,9,4,9,99,3,9,102,2,9,9,4,9,3,9,1001,9,2,9,4,9,3,9,1001,9,1,9,4,9,3,9,101,1,9,9,4,9,3,9,102,2,9,9,4,9,3,9,101,2,9,9,4,9,3,9,101,2,9,9,4,9,3,9,1002,9,2,9,4,9,3,9,101,1,9,9,4,9,3,9,1002,9,2,9,4,9,99,3,9,1002,9,2,9,4,9,3,9,1001,9,1,9,4,9,3,9,1002,9,2,9,4,9,3,9,1001,9,1,9,4,9,3,9,102,2,9,9,4,9,3,9,102,2,9,9,4,9,3,9,1001,9,1,9,4,9,3,9,1001,9,2,9,4,9,3,9,1001,9,1,9,4,9,3,9,101,2,9,9,4,9,99]"
   ]
  },
  {
   "cell_type": "code",
   "execution_count": 8,
   "metadata": {},
   "outputs": [
    {
     "data": {
      "text/plain": [
       "(24625, (1, 3, 0, 4, 2))"
      ]
     },
     "execution_count": 8,
     "metadata": {},
     "output_type": "execute_result"
    }
   ],
   "source": [
    "# Part one solution\n",
    "check_phases(inp_list)"
   ]
  },
  {
   "cell_type": "code",
   "execution_count": 9,
   "metadata": {},
   "outputs": [],
   "source": [
    "# Set up all computers with memory, input and output lists\n",
    "# Until the amplifiers naturally halt\n",
    "# Run one amplifier until it halts waiting for input, \n",
    "#    then run next one till that halts, and so on\n",
    "\n",
    "\n",
    "def check_phases_shared_input(inp_program_original):\n",
    "    phase_settings = list(itertools.permutations([5, 6, 7, 8, 9]))\n",
    "    best_output = -np.inf\n",
    "    best_phases = []\n",
    "    \n",
    "    for phases in phase_settings:\n",
    "        inputs = [[jj] for jj in phases]\n",
    "        inputs[0].append(0)\n",
    "        last_val = 0 \n",
    "        memories = [copy.deepcopy(inp_program_original) for jj in range(5)]\n",
    "        cur_pointer = [0]*5\n",
    "        cur_input_index = [0]*5\n",
    "        ii = 0 # cur_machine_index\n",
    "        has_halted = [False]*5\n",
    "        while not all(has_halted):\n",
    "            inp_program = memories[ii]\n",
    "            inp_val = inputs[ii]        # Use same list as input to one machine\n",
    "            out_val = inputs[(ii+1)%5]  # and output of another\n",
    "            out_raw, halt_code = run_computer(inp_program, inp_val, verbose=False,\n",
    "                                              out_val=out_val,\n",
    "                                              cur=cur_pointer[ii], \n",
    "                                              inp_index=cur_input_index[ii])\n",
    "            if halt_code:\n",
    "                has_halted[ii] = True\n",
    "                last_val = out_raw\n",
    "            else:\n",
    "                cur_pointer[ii] = out_raw[0]\n",
    "                cur_input_index[ii] = out_raw[1]\n",
    "            \n",
    "            ii = (ii + 1) % 5\n",
    "            \n",
    "        if last_val > best_output:\n",
    "            best_output = last_val\n",
    "            best_phases = phases\n",
    "\n",
    "    return (best_output, best_phases) "
   ]
  },
  {
   "cell_type": "code",
   "execution_count": 10,
   "metadata": {},
   "outputs": [
    {
     "data": {
      "text/plain": [
       "(139629729, (9, 8, 7, 6, 5))"
      ]
     },
     "execution_count": 10,
     "metadata": {},
     "output_type": "execute_result"
    }
   ],
   "source": [
    "# Example\n",
    "check_phases_shared_input([3,26,1001,26,-4,26,3,27,1002,27,2,27,1,27,26,27,4,27,1001,28,-1,28,1005,28,6,99,0,0,5])"
   ]
  },
  {
   "cell_type": "code",
   "execution_count": 11,
   "metadata": {},
   "outputs": [
    {
     "data": {
      "text/plain": [
       "(18216, (9, 7, 8, 5, 6))"
      ]
     },
     "execution_count": 11,
     "metadata": {},
     "output_type": "execute_result"
    }
   ],
   "source": [
    "# Other example\n",
    "check_phases_shared_input([3,52,1001,52,-5,52,3,53,1,52,56,54,1007,54,5,55,1005,55,26,1001,54,\n",
    "-5,54,1105,1,12,1,53,54,53,1008,54,0,55,1001,55,1,55,2,53,55,53,4,\n",
    "53,1001,56,-1,56,1005,56,6,99,0,0,0,0,10])"
   ]
  },
  {
   "cell_type": "code",
   "execution_count": 12,
   "metadata": {},
   "outputs": [
    {
     "data": {
      "text/plain": [
       "(36497698, (5, 8, 6, 9, 7))"
      ]
     },
     "execution_count": 12,
     "metadata": {},
     "output_type": "execute_result"
    }
   ],
   "source": [
    "# Part two solution\n",
    "check_phases_shared_input(inp_list)"
   ]
  },
  {
   "cell_type": "code",
   "execution_count": null,
   "metadata": {},
   "outputs": [],
   "source": []
  }
 ],
 "metadata": {
  "kernelspec": {
   "display_name": "gpss",
   "language": "python",
   "name": "gpss"
  },
  "language_info": {
   "codemirror_mode": {
    "name": "ipython",
    "version": 3
   },
   "file_extension": ".py",
   "mimetype": "text/x-python",
   "name": "python",
   "nbconvert_exporter": "python",
   "pygments_lexer": "ipython3",
   "version": "3.7.3"
  }
 },
 "nbformat": 4,
 "nbformat_minor": 2
}
