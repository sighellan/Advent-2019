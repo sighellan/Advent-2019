{
 "cells": [
  {
   "cell_type": "code",
   "execution_count": 1,
   "metadata": {},
   "outputs": [],
   "source": [
    "import time\n",
    "\n",
    "import numpy as np\n",
    "import copy"
   ]
  },
  {
   "cell_type": "code",
   "execution_count": 2,
   "metadata": {},
   "outputs": [],
   "source": [
    "def update_velocity_matII(moon_coords_mat, old_moon_velocities, Nm=4, Nc=3):\n",
    "    tmp = np.matmul(np.array(moon_coords_mat[:,:], ndmin=3).T, np.ones((3,1,4)) )\n",
    "    tmpT = np.transpose(tmp, (0, 2, 1))\n",
    "    update = np.sum(tmpT < tmp, 1) - np.sum(tmpT > tmp, 1)\n",
    "    return old_moon_velocities + update.T"
   ]
  },
  {
   "cell_type": "code",
   "execution_count": 3,
   "metadata": {},
   "outputs": [],
   "source": [
    "def apply_velocity_mat(old_moon_coords, moon_velocities, Nm=4, Nc=3):\n",
    "    # Have coordinates be a matrix\n",
    "    return old_moon_coords + np.array(moon_velocities)\n"
   ]
  },
  {
   "cell_type": "code",
   "execution_count": 4,
   "metadata": {},
   "outputs": [],
   "source": [
    "def calculate_energies(moon_coords, moon_velocities, Nm=4):\n",
    "    total_eng = 0\n",
    "    for moon_idx in range(Nm):\n",
    "        pot_eng = np.sum(np.abs(moon_coords[moon_idx]))\n",
    "        kin_eng = np.sum(np.abs(moon_velocities[moon_idx]))\n",
    "        total_eng = total_eng + pot_eng * kin_eng\n",
    "    return total_eng"
   ]
  },
  {
   "cell_type": "code",
   "execution_count": 5,
   "metadata": {},
   "outputs": [],
   "source": [
    "# Example one input\n",
    "# start_coordinates = [np.array([-1, 0, 2]),\n",
    "#                      np.array([2, -10, -7]),\n",
    "#                      np.array([4, -8, 8]),\n",
    "#                      np.array([3, 5, -1])]\n",
    "\n",
    "# Example two input\n",
    "# start_coordinates = [np.array([-8, -10, 0]),\n",
    "#                      np.array([5, 5, 10]),\n",
    "#                      np.array([2, -7, 3]),\n",
    "#                      np.array([9, -8, -3])]\n",
    "\n",
    "# Parts one and two input\n",
    "start_coordinates = [np.array([4, 12, 13]),\n",
    "                     np.array([-9, 14, -3]),\n",
    "                     np.array([-7, -1, 2]),\n",
    "                     np.array([-11, 17, -1])]\n",
    "\n",
    "# <x=-5, y=6, z=-11>\n",
    "# <x=-8, y=-4, z=-2>\n",
    "# <x=1, y=16, z=4>\n",
    "# <x=11, y=11, z=-4>\n",
    "\n",
    "start_velocities = [np.zeros(3), np.zeros(3), np.zeros(3), np.zeros(3)]"
   ]
  },
  {
   "cell_type": "code",
   "execution_count": 6,
   "metadata": {},
   "outputs": [],
   "source": [
    "cur_velocities = np.array(start_velocities)\n",
    "cur_coordinates = np.array(start_coordinates)\n",
    "\n",
    "factor = np.zeros(3)\n",
    "for step in range(1,1001):\n",
    "    cur_velocities = update_velocity_matII(cur_coordinates, cur_velocities)\n",
    "    cur_coordinates = apply_velocity_mat(cur_coordinates, cur_velocities)\n",
    "\n",
    "    for jj in range(3):\n",
    "        if (cur_velocities[:,jj] == np.zeros(4)).all() and \\\n",
    "            (cur_coordinates[:,jj] == np.array(start_coordinates)[:,jj]).all() and \\\n",
    "            not factor[jj]:\n",
    "            factor[jj] = step\n",
    "            print((jj, step))\n",
    "    if factor.all():\n",
    "        break\n",
    "\n",
    "    "
   ]
  },
  {
   "cell_type": "code",
   "execution_count": 7,
   "metadata": {},
   "outputs": [
    {
     "data": {
      "text/plain": [
       "5350.0"
      ]
     },
     "execution_count": 7,
     "metadata": {},
     "output_type": "execute_result"
    }
   ],
   "source": [
    "# Part one solution\n",
    "calculate_energies(cur_coordinates, cur_velocities, Nm=4)"
   ]
  },
  {
   "cell_type": "code",
   "execution_count": 8,
   "metadata": {},
   "outputs": [
    {
     "name": "stdout",
     "output_type": "stream",
     "text": [
      "(2, 96236)\n",
      "(0, 167624)\n",
      "(1, 231614)\n"
     ]
    }
   ],
   "source": [
    "cur_velocities = np.array(start_velocities)\n",
    "cur_coordinates = np.array(start_coordinates)\n",
    "\n",
    "factor = np.zeros(3)\n",
    "for step in range(1,1000001):\n",
    "    cur_velocities = update_velocity_matII(cur_coordinates, cur_velocities)\n",
    "    cur_coordinates = apply_velocity_mat(cur_coordinates, cur_velocities)\n",
    "\n",
    "    for jj in range(3):\n",
    "        if (cur_velocities[:,jj] == np.zeros(4)).all() and \\\n",
    "            (cur_coordinates[:,jj] == np.array(start_coordinates)[:,jj]).all() and \\\n",
    "            not factor[jj]:\n",
    "            factor[jj] = step\n",
    "            print((jj, step))\n",
    "    if factor.all():\n",
    "        break"
   ]
  },
  {
   "cell_type": "code",
   "execution_count": 9,
   "metadata": {},
   "outputs": [
    {
     "data": {
      "text/plain": [
       "4686774924"
      ]
     },
     "execution_count": 9,
     "metadata": {},
     "output_type": "execute_result"
    }
   ],
   "source": [
    "# Part two example\n",
    "np.lcm.reduce(np.array([2028, 4702, 5898],\n",
    "                       dtype=object))"
   ]
  },
  {
   "cell_type": "code",
   "execution_count": 10,
   "metadata": {},
   "outputs": [
    {
     "data": {
      "text/plain": [
       "467034091553512"
      ]
     },
     "execution_count": 10,
     "metadata": {},
     "output_type": "execute_result"
    }
   ],
   "source": [
    "# Part two solution\n",
    "np.lcm.reduce(np.array([96236, 167624, 231614],\n",
    "                       dtype=object))"
   ]
  },
  {
   "cell_type": "code",
   "execution_count": null,
   "metadata": {},
   "outputs": [],
   "source": []
  }
 ],
 "metadata": {
  "kernelspec": {
   "display_name": "gpag",
   "language": "python",
   "name": "gpag"
  },
  "language_info": {
   "codemirror_mode": {
    "name": "ipython",
    "version": 3
   },
   "file_extension": ".py",
   "mimetype": "text/x-python",
   "name": "python",
   "nbconvert_exporter": "python",
   "pygments_lexer": "ipython3",
   "version": "3.7.3"
  },
  "varInspector": {
   "cols": {
    "lenName": 16,
    "lenType": 16,
    "lenVar": 40
   },
   "kernels_config": {
    "python": {
     "delete_cmd_postfix": "",
     "delete_cmd_prefix": "del ",
     "library": "var_list.py",
     "varRefreshCmd": "print(var_dic_list())"
    },
    "r": {
     "delete_cmd_postfix": ") ",
     "delete_cmd_prefix": "rm(",
     "library": "var_list.r",
     "varRefreshCmd": "cat(var_dic_list()) "
    }
   },
   "types_to_exclude": [
    "module",
    "function",
    "builtin_function_or_method",
    "instance",
    "_Feature"
   ],
   "window_display": false
  }
 },
 "nbformat": 4,
 "nbformat_minor": 2
}
