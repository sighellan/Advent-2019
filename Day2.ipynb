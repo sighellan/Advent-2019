{
 "cells": [
  {
   "cell_type": "code",
   "execution_count": 1,
   "metadata": {},
   "outputs": [],
   "source": [
    "def do_add(ll, ii_1, ii_2, ii_3):\n",
    "    ll[ii_3] = ll[ii_1] + ll[ii_2]\n",
    "    \n",
    "def do_mul(ll, ii_1, ii_2, ii_3):\n",
    "    ll[ii_3] = ll[ii_1] * ll[ii_2]\n",
    "    \n",
    "def run_computer(ll):\n",
    "    cur = 0\n",
    "    while ll[cur] != 99:\n",
    "        if ll[cur] == 1:\n",
    "            do_add(ll, ll[cur+1], ll[cur+2], ll[cur+3])\n",
    "        elif ll[cur] == 2:\n",
    "            do_mul(ll, ll[cur+1], ll[cur+2], ll[cur+3])\n",
    "        else:\n",
    "            print('Error')\n",
    "        cur = cur + 4\n",
    "    return ll\n",
    "    "
   ]
  },
  {
   "cell_type": "code",
   "execution_count": 2,
   "metadata": {},
   "outputs": [
    {
     "data": {
      "text/plain": [
       "[3500, 9, 10, 70, 2, 3, 11, 0, 99, 30, 40, 50]"
      ]
     },
     "execution_count": 2,
     "metadata": {},
     "output_type": "execute_result"
    }
   ],
   "source": [
    "# Example\n",
    "\n",
    "run_computer([1,9,10,3,2,3,11,0,99,30,40,50])"
   ]
  },
  {
   "cell_type": "code",
   "execution_count": 3,
   "metadata": {},
   "outputs": [
    {
     "name": "stdout",
     "output_type": "stream",
     "text": [
      "[2, 0, 0, 0, 99]\n",
      "[2, 3, 0, 6, 99]\n",
      "[2, 4, 4, 5, 99, 9801]\n",
      "[30, 1, 1, 4, 2, 5, 6, 0, 99]\n"
     ]
    }
   ],
   "source": [
    "# More examples\n",
    "ll_tests = [\n",
    "    [1,0,0,0,99],\n",
    "    [2,3,0,3,99],\n",
    "    [2,4,4,5,99,0],\n",
    "    [1,1,1,4,99,5,6,0,99]\n",
    "]\n",
    "\n",
    "for ll in ll_tests:\n",
    "    print(run_computer(ll))"
   ]
  },
  {
   "cell_type": "code",
   "execution_count": 4,
   "metadata": {},
   "outputs": [],
   "source": [
    "def get_list(noun=12, verb=2):\n",
    "    lineList = [1,0,0,3,1,1,2,3,1,3,4,3,1,5,0,3,2,13,1,19,1,10,19,23,1,23,9,27,1,5,27,31,2,31,13,35,1,35,5,39,1,39,5,43,2,13,43,47,2,47,10,51,1,51,6,55,2,55,9,59,1,59,5,63,1,63,13,67,2,67,6,71,1,71,5,75,1,75,5,79,1,79,9,83,1,10,83,87,1,87,10,91,1,91,9,95,1,10,95,99,1,10,99,103,2,103,10,107,1,107,9,111,2,6,111,115,1,5,115,119,2,119,13,123,1,6,123,127,2,9,127,131,1,131,5,135,1,135,13,139,1,139,10,143,1,2,143,147,1,147,10,0,99,2,0,14,0]\n",
    "    # Restore program\n",
    "    lineList[1] = noun\n",
    "    lineList[2] =  verb\n",
    "    return lineList"
   ]
  },
  {
   "cell_type": "code",
   "execution_count": 5,
   "metadata": {},
   "outputs": [
    {
     "name": "stdout",
     "output_type": "stream",
     "text": [
      "4930687\n"
     ]
    }
   ],
   "source": [
    "# Get input for part one\n",
    "ll = get_list(12, 2)\n",
    "state = run_computer(ll)\n",
    "print(state[0])"
   ]
  },
  {
   "cell_type": "code",
   "execution_count": 6,
   "metadata": {},
   "outputs": [
    {
     "name": "stdout",
     "output_type": "stream",
     "text": [
      "5335\n"
     ]
    }
   ],
   "source": [
    "# Part two\n",
    "for noun in range(100):\n",
    "    for verb in range(100):\n",
    "        ll = get_list(noun, verb)\n",
    "        try:\n",
    "            cur = run_computer(ll)[0]\n",
    "            if cur == 19690720:\n",
    "                print(noun*100+verb)\n",
    "                break\n",
    "        except:\n",
    "            continue\n",
    "        \n"
   ]
  },
  {
   "cell_type": "code",
   "execution_count": null,
   "metadata": {},
   "outputs": [],
   "source": []
  }
 ],
 "metadata": {
  "kernelspec": {
   "display_name": "Python 3",
   "language": "python",
   "name": "python3"
  },
  "language_info": {
   "codemirror_mode": {
    "name": "ipython",
    "version": 3
   },
   "file_extension": ".py",
   "mimetype": "text/x-python",
   "name": "python",
   "nbconvert_exporter": "python",
   "pygments_lexer": "ipython3",
   "version": "3.7.3"
  },
  "varInspector": {
   "cols": {
    "lenName": 16,
    "lenType": 16,
    "lenVar": 40
   },
   "kernels_config": {
    "python": {
     "delete_cmd_postfix": "",
     "delete_cmd_prefix": "del ",
     "library": "var_list.py",
     "varRefreshCmd": "print(var_dic_list())"
    },
    "r": {
     "delete_cmd_postfix": ") ",
     "delete_cmd_prefix": "rm(",
     "library": "var_list.r",
     "varRefreshCmd": "cat(var_dic_list()) "
    }
   },
   "types_to_exclude": [
    "module",
    "function",
    "builtin_function_or_method",
    "instance",
    "_Feature"
   ],
   "window_display": false
  }
 },
 "nbformat": 4,
 "nbformat_minor": 2
}
