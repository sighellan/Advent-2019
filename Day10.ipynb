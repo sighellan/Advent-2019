{
 "cells": [
  {
   "cell_type": "code",
   "execution_count": 2,
   "metadata": {},
   "outputs": [],
   "source": [
    "import numpy as np"
   ]
  },
  {
   "cell_type": "code",
   "execution_count": 3,
   "metadata": {},
   "outputs": [],
   "source": [
    "def reduce_path(org_path):\n",
    "    aa, bb = org_path\n",
    "    largest_cand = max(abs(aa), abs(bb))\n",
    "    for cand in range(largest_cand, 0, -1):\n",
    "        if aa//cand == aa/cand and bb//cand == bb/cand:\n",
    "            return (aa//cand, bb//cand)\n",
    "    return (aa, bb)"
   ]
  },
  {
   "cell_type": "code",
   "execution_count": 4,
   "metadata": {},
   "outputs": [],
   "source": [
    "ex_inp = \"\"\".#..#\n",
    ".....\n",
    "#####\n",
    "....#\n",
    "...##\"\"\""
   ]
  },
  {
   "cell_type": "code",
   "execution_count": 5,
   "metadata": {},
   "outputs": [],
   "source": [
    "ex_inp2 = \"\"\"......#.#.\n",
    "#..#.#....\n",
    "..#######.\n",
    ".#.#.###..\n",
    ".#..#.....\n",
    "..#....#.#\n",
    "#..#....#.\n",
    ".##.#..###\n",
    "##...#..#.\n",
    ".#....####\"\"\"\n",
    "\n",
    "ex_inp3 = \"\"\"#.#...#.#.\n",
    ".###....#.\n",
    ".#....#...\n",
    "##.#.#.#.#\n",
    "....#.#.#.\n",
    ".##..###.#\n",
    "..#...##..\n",
    "..##....##\n",
    "......#...\n",
    ".####.###.\"\"\"\n",
    "\n",
    "ex_inp_large = \"\"\".#..##.###...#######\n",
    "##.############..##.\n",
    ".#.######.########.#\n",
    ".###.#######.####.#.\n",
    "#####.##.#.##.###.##\n",
    "..#####..#.#########\n",
    "####################\n",
    "#.####....###.#.#.##\n",
    "##.#################\n",
    "#####.##.###..####..\n",
    "..######..##.#######\n",
    "####.##.####...##..#\n",
    ".#####..#.######.###\n",
    "##...#.##########...\n",
    "#.##########.#######\n",
    ".####.#.###.###.#.##\n",
    "....##.##.###..#####\n",
    ".#.#.###########.###\n",
    "#.#.#.#####.####.###\n",
    "###.##.####.##.#..##\"\"\""
   ]
  },
  {
   "cell_type": "code",
   "execution_count": 6,
   "metadata": {},
   "outputs": [],
   "source": [
    "def get_greatest_num(inp_string):\n",
    "    location_list = []\n",
    "    inp_rows = inp_string.split('\\n')\n",
    "    width = len(inp_rows[0])\n",
    "    for ii in range(len(inp_rows)):\n",
    "        for jj in range(width):\n",
    "            if inp_rows[ii][jj] == '#':\n",
    "                location_list.append((jj, ii))\n",
    "\n",
    "    greatest_num = 0\n",
    "    greatest_num_loc = (0, 0)\n",
    "    greatest_num_idx = -1\n",
    "    for loc_idx in range(len(location_list)):\n",
    "        loc_aa, loc_bb = location_list[loc_idx]\n",
    "        other_locs = location_list[:loc_idx]+location_list[loc_idx+1:]\n",
    "    #     print((loc_aa, loc_bb))\n",
    "    #     print(other_locs)\n",
    "        paths = [(aa-loc_aa, bb-loc_bb) for (aa,bb) in other_locs]\n",
    "        reduced_paths = [reduce_path(pp) for pp in paths]\n",
    "        num_seen = len(set(reduced_paths))\n",
    "    #     print(num_seen)\n",
    "        if num_seen > greatest_num:\n",
    "            greatest_num = num_seen\n",
    "            greatest_num_loc = (loc_aa, loc_bb)\n",
    "            greatest_num_idx = loc_idx\n",
    "\n",
    "    print(greatest_num)\n",
    "    other_locs_greatest = location_list[:greatest_num_idx]\\\n",
    "        +location_list[greatest_num_idx+1:]\n",
    "    return greatest_num_loc, other_locs_greatest"
   ]
  },
  {
   "cell_type": "code",
   "execution_count": 7,
   "metadata": {},
   "outputs": [
    {
     "name": "stdout",
     "output_type": "stream",
     "text": [
      "33\n",
      "35\n",
      "210\n"
     ]
    }
   ],
   "source": [
    "# Run examples\n",
    "get_greatest_num(ex_inp2)\n",
    "get_greatest_num(ex_inp3)\n",
    "ast_loc_ex, other_locs_ex = get_greatest_num(ex_inp_large)"
   ]
  },
  {
   "cell_type": "code",
   "execution_count": 8,
   "metadata": {},
   "outputs": [
    {
     "data": {
      "text/plain": [
       "(11, 13)"
      ]
     },
     "execution_count": 8,
     "metadata": {},
     "output_type": "execute_result"
    }
   ],
   "source": [
    "ast_loc_ex"
   ]
  },
  {
   "cell_type": "code",
   "execution_count": 9,
   "metadata": {},
   "outputs": [],
   "source": [
    "# Part one input\n",
    "puzzle_inp = \"\"\"#...##.####.#.......#.##..##.#.\n",
    "#.##.#..#..#...##..##.##.#.....\n",
    "#..#####.#......#..#....#.###.#\n",
    "...#.#.#...#..#.....#..#..#.#..\n",
    ".#.....##..#...#..#.#...##.....\n",
    "##.....#..........##..#......##\n",
    ".##..##.#.#....##..##.......#..\n",
    "#.##.##....###..#...##...##....\n",
    "##.#.#............##..#...##..#\n",
    "###..##.###.....#.##...####....\n",
    "...##..#...##...##..#.#..#...#.\n",
    "..#.#.##.#.#.#####.#....####.#.\n",
    "#......###.##....#...#...#...##\n",
    ".....#...#.#.#.#....#...#......\n",
    "#..#.#.#..#....#..#...#..#..##.\n",
    "#.....#..##.....#...###..#..#.#\n",
    ".....####.#..#...##..#..#..#..#\n",
    "..#.....#.#........#.#.##..####\n",
    ".#.....##..#.##.....#...###....\n",
    "###.###....#..#..#.....#####...\n",
    "#..##.##..##.#.#....#.#......#.\n",
    ".#....#.##..#.#.#.......##.....\n",
    "##.##...#...#....###.#....#....\n",
    ".....#.######.#.#..#..#.#.....#\n",
    ".#..#.##.#....#.##..#.#...##..#\n",
    ".##.###..#..#..#.###...#####.#.\n",
    "#...#...........#.....#.......#\n",
    "#....##.#.#..##...#..####...#..\n",
    "#.####......#####.....#.##..#..\n",
    ".#...#....#...##..##.#.#......#\n",
    "#..###.....##.#.......#.##...##\"\"\""
   ]
  },
  {
   "cell_type": "code",
   "execution_count": 10,
   "metadata": {},
   "outputs": [
    {
     "name": "stdout",
     "output_type": "stream",
     "text": [
      "288\n"
     ]
    }
   ],
   "source": [
    "# Part one solution\n",
    "ast_location, other_locs = get_greatest_num(puzzle_inp)"
   ]
  },
  {
   "cell_type": "code",
   "execution_count": 11,
   "metadata": {},
   "outputs": [],
   "source": [
    "# reduced_paths, when multiplied out again, will give \n",
    "#    the set of all points that will be vaporized in the first round\n",
    "# the angle can be calculated as tan(y/x), gives ordering\n",
    "# other_locs will need to be updated when vaporization occurs"
   ]
  },
  {
   "cell_type": "code",
   "execution_count": 12,
   "metadata": {},
   "outputs": [],
   "source": [
    "def reconstruct_loc(reduced_path, ast_loc, other_locs):\n",
    "    other_locs_set = set(other_locs)\n",
    "    (loc_aa, loc_bb) = ast_loc\n",
    "    (red_aa, red_bb) = reduced_path\n",
    "    for ii in range(100):\n",
    "        test_loc = (loc_aa+red_aa*ii, loc_bb+red_bb*ii)\n",
    "        if test_loc in other_locs_set:\n",
    "            return test_loc\n",
    "    "
   ]
  },
  {
   "cell_type": "code",
   "execution_count": 13,
   "metadata": {},
   "outputs": [],
   "source": [
    "def take_arctan(aa, bb_pp):\n",
    "    bb = - bb_pp\n",
    "    if bb == 0:\n",
    "        if aa >= 0:\n",
    "            return np.pi/2\n",
    "        else:\n",
    "            return 3*np.pi/2\n",
    "        return 0\n",
    "    if aa >= 0:\n",
    "        if bb >= 0:\n",
    "            return np.arctan(aa/bb)\n",
    "        else:\n",
    "            return np.pi + np.arctan(aa/bb)\n",
    "    else:\n",
    "        if bb >= 0:\n",
    "            return 2*np.pi - np.arctan(np.abs(aa)/bb)\n",
    "        else:\n",
    "            return np.pi + np.arctan(aa/bb)\n",
    "            "
   ]
  },
  {
   "cell_type": "code",
   "execution_count": 22,
   "metadata": {},
   "outputs": [],
   "source": [
    "def track_vaporisation(ast_loc, other_locs, of_interest):\n",
    "    currently_vaporised = 0\n",
    "    (loc_aa, loc_bb) = ast_loc\n",
    "    other_locs_var = [pp for pp in other_locs]\n",
    "    while len(other_locs_var) > 0:\n",
    "        print('%s\\t%s' %(currently_vaporised,len(other_locs_var)))\n",
    "        paths = [(aa-loc_aa, bb-loc_bb) for (aa,bb) in other_locs_var]\n",
    "        reduced_paths = [reduce_path(pp) for pp in paths]\n",
    "        reduced_detected = set(reduced_paths)\n",
    "#         print(reduced_detected)\n",
    "#         print(len(reduced_detected))\n",
    "        if currently_vaporised + len(reduced_detected) < of_interest:\n",
    "            # Remove these reconstructed locations from other_locs_var\n",
    "            vaporised_locations = [reconstruct_loc(rr, ast_loc, other_locs_var) \n",
    "                                   for rr in reduced_detected]\n",
    "            other_locs_var = [oo for oo in other_locs_var \n",
    "                              if oo not in vaporised_locations]\n",
    "            currently_vaporised = currently_vaporised + len(reduced_detected)\n",
    "        else:\n",
    "            angles = [(take_arctan(aa,bb), (aa, bb)) for (aa,bb) in reduced_detected]\n",
    "            angles.sort(key=lambda tt:  tt[0])\n",
    "            interest_idx = of_interest - currently_vaporised - 1\n",
    "            print(reconstruct_loc(angles[interest_idx][1], ast_loc, other_locs_var))\n",
    "            \n",
    "#             print([(reconstruct_loc(loc[1], ast_loc, other_locs_var), loc[0]) for loc in angles])\n",
    "#             print([reconstruct_loc(loc[1], ast_loc, other_locs_var) for loc in angles])\n",
    "\n",
    "            #             print(angles)\n",
    "            break\n",
    "\n",
    "#     print(currently_vaporised)\n",
    "#     return greatest_num_loc"
   ]
  },
  {
   "cell_type": "code",
   "execution_count": 23,
   "metadata": {},
   "outputs": [
    {
     "name": "stdout",
     "output_type": "stream",
     "text": [
      "0\t299\n",
      "210\t89\n",
      "253\t46\n",
      "270\t29\n",
      "278\t21\n",
      "284\t15\n",
      "289\t10\n",
      "292\t7\n",
      "294\t5\n",
      "296\t3\n",
      "297\t2\n",
      "298\t1\n",
      "(11, 1)\n"
     ]
    }
   ],
   "source": [
    "track_vaporisation(ast_loc_ex, other_locs_ex, of_interest=299)"
   ]
  },
  {
   "cell_type": "code",
   "execution_count": 25,
   "metadata": {},
   "outputs": [
    {
     "name": "stdout",
     "output_type": "stream",
     "text": [
      "0\t359\n",
      "(6, 16)\n"
     ]
    }
   ],
   "source": [
    "# Part two solution\n",
    "track_vaporisation(ast_location, other_locs, of_interest=200);"
   ]
  },
  {
   "cell_type": "code",
   "execution_count": null,
   "metadata": {},
   "outputs": [],
   "source": []
  }
 ],
 "metadata": {
  "kernelspec": {
   "display_name": "gpss",
   "language": "python",
   "name": "gpss"
  },
  "language_info": {
   "codemirror_mode": {
    "name": "ipython",
    "version": 3
   },
   "file_extension": ".py",
   "mimetype": "text/x-python",
   "name": "python",
   "nbconvert_exporter": "python",
   "pygments_lexer": "ipython3",
   "version": "3.7.3"
  }
 },
 "nbformat": 4,
 "nbformat_minor": 2
}
