{
 "cells": [
  {
   "cell_type": "code",
   "execution_count": 1,
   "metadata": {},
   "outputs": [],
   "source": [
    "import numpy as np"
   ]
  },
  {
   "cell_type": "code",
   "execution_count": 2,
   "metadata": {},
   "outputs": [],
   "source": [
    "def do_add(ll, ii_1, ii_2, ii_3, imme_bool):\n",
    "    if not imme_bool:\n",
    "        try:\n",
    "            ll[ii_3] = ii_1 + ii_2\n",
    "        except:\n",
    "            print((ii_1, ii_2, ii_3))\n",
    "            print(ll)\n",
    "    return 4\n",
    "    \n",
    "def do_mul(ll, ii_1, ii_2, ii_3, imme_bool):\n",
    "    if not imme_bool:\n",
    "        ll[ii_3] = ii_1 * ii_2\n",
    "    return 4\n",
    "\n",
    "def do_store(ll, ii_1, inp_val, imme_bool):\n",
    "    if not imme_bool:\n",
    "        ll[ii_1] = inp_val\n",
    "    return 2\n",
    "\n",
    "def do_output(ii_1, verbose):\n",
    "    if verbose:\n",
    "        print(ii_1)\n",
    "    return 2\n",
    "\n",
    "def jump_if_true(ii_1, ii_2, cur):\n",
    "    if ii_1:\n",
    "        return ii_2 \n",
    "    return cur + 3\n",
    "\n",
    "def jump_if_false(ii_1, ii_2, cur):\n",
    "    if not ii_1:\n",
    "        return ii_2 \n",
    "    return cur + 3\n",
    "\n",
    "def do_less_than(ll, ii_1, ii_2, ii_3):\n",
    "    if ii_1 < ii_2:\n",
    "        ll[ii_3] = 1\n",
    "    else:\n",
    "        ll[ii_3] = 0\n",
    "    return 4\n",
    "\n",
    "def do_equals(ll, ii_1, ii_2, ii_3):\n",
    "    if ii_1 == ii_2:\n",
    "        ll[ii_3] = 1\n",
    "    else:\n",
    "        ll[ii_3] = 0\n",
    "    return 4\n",
    "\n",
    "def do_adjust_relative_base(ii_1, rel_index, cur):\n",
    "    return cur + 2, rel_index + ii_1\n",
    "\n",
    "def set_up_single(jj, ll, cur, rel_index, pos_code=False):   \n",
    "    # 0: position mode, use value as pointer\n",
    "    # 1: immediate mode, use value as int\n",
    "    # 2: relative mode, use value as pointer with offset\n",
    "    param = str(ll[cur])[:-2]\n",
    "    if len(param) >=jj and int(param[len(param)-jj]) == 1: # immediate\n",
    "        return ll[cur+jj], True\n",
    "    elif len(param) >=jj and int(param[len(param)-jj]) == 2: # relative\n",
    "        offset = rel_index\n",
    "    else:\n",
    "        offset = 0\n",
    "    if pos_code:\n",
    "        assert(cur+jj >= 0)\n",
    "        return ll[cur+jj]+offset, False\n",
    "    else:\n",
    "        assert(cur+jj >= 0)\n",
    "        assert(ll[cur+jj]+offset >= 0)\n",
    "        return ll[ll[cur+jj]+offset], False\n",
    "\n",
    "def set_up_inputs_len_3(ll, cur, rel_index):\n",
    "    ii_3, imme_bool = set_up_single(3, ll, cur, rel_index, pos_code=True)\n",
    "    ii_2, _ = set_up_single(2, ll, cur, rel_index)\n",
    "    ii_1, _ = set_up_single(1, ll, cur, rel_index)\n",
    "    return ii_1, ii_2, ii_3, imme_bool\n",
    "\n",
    "def get_inp_val(inp_index, inp_val):\n",
    "    cur_inp_val = inp_val[inp_index]\n",
    "    return cur_inp_val, inp_index + 1\n",
    "    \n",
    "    \n",
    "def run_computer(ll, inp_val, verbose=True, out_val=[], \n",
    "                 cur=0, inp_index=0, rel_index=0):\n",
    "    # Provide all inputs so computer can be restarted from previous settings\n",
    "    \n",
    "    # Extra memory needs to be provided by appending ll before first starting the computer\n",
    "    \n",
    "    while ll[cur] % 100 != 99:\n",
    "        \n",
    "        if ll[cur] % 100 == 1:\n",
    "            ii_1, ii_2, ii_3, imme_bool = set_up_inputs_len_3(ll, cur, rel_index)\n",
    "            cur = cur + do_add(ll, ii_1, ii_2, ii_3, imme_bool)\n",
    "        elif ll[cur] % 100 == 2:\n",
    "            ii_1, ii_2, ii_3, imme_bool = set_up_inputs_len_3(ll, cur, rel_index)\n",
    "            cur = cur + do_mul(ll, ii_1, ii_2, ii_3, imme_bool)\n",
    "        elif ll[cur] % 100 == 3:\n",
    "            if len(inp_val) <= inp_index: # Wait till other machines have run so input is available\n",
    "                return [cur, inp_index, rel_index], False\n",
    "            ii_1, imme_bool = set_up_single(1, ll, cur, rel_index, pos_code=True)\n",
    "            cur_inp_val, inp_index = get_inp_val(inp_index, inp_val)\n",
    "            cur = cur + do_store(ll, ii_1, cur_inp_val, imme_bool)\n",
    "        elif ll[cur] % 100 == 4:\n",
    "            ii_1, imme_bool = set_up_single(1, ll, cur, rel_index, pos_code=False)\n",
    "            last_output = ii_1\n",
    "            out_val.append(last_output)\n",
    "            cur = cur + do_output(ii_1, verbose)\n",
    "        elif ll[cur] % 100 == 5:\n",
    "            ii_1, _ = set_up_single(1, ll, cur, rel_index)\n",
    "            ii_2, _ = set_up_single(2, ll, cur, rel_index)\n",
    "            cur = jump_if_true(ii_1, ii_2, cur)\n",
    "        elif ll[cur] % 100 == 6:\n",
    "            ii_1, _ = set_up_single(1, ll, cur, rel_index)\n",
    "            ii_2, _ = set_up_single(2, ll, cur, rel_index)\n",
    "            cur = jump_if_false(ii_1, ii_2, cur)\n",
    "        elif ll[cur] % 100 == 7:\n",
    "            ii_1, ii_2, ii_3, imme_bool = set_up_inputs_len_3(ll, cur, rel_index)\n",
    "            cur = cur + do_less_than(ll, ii_1, ii_2, ii_3)\n",
    "        elif ll[cur] % 100 == 8:\n",
    "            ii_1, ii_2, ii_3, imme_bool = set_up_inputs_len_3(ll, cur, rel_index)\n",
    "            cur = cur + do_equals(ll, ii_1, ii_2, ii_3)\n",
    "        elif ll[cur] % 100 == 9:\n",
    "            ii_1, _ = set_up_single(1, ll, cur, rel_index)\n",
    "            cur, rel_index = do_adjust_relative_base(ii_1, rel_index, cur)\n",
    "        else:\n",
    "            print(ll)\n",
    "            raise ValueError\n",
    "#     return ll\n",
    "    return last_output, True\n",
    "    "
   ]
  },
  {
   "cell_type": "code",
   "execution_count": 3,
   "metadata": {},
   "outputs": [],
   "source": [
    "# Parts one and two\n",
    "inp_program = [3,8,1005,8,324,1106,0,11,0,0,0,104,1,104,0,3,8,102,-1,8,10,101,1,10,10,4,10,1008,8,0,10,4,10,1002,8,1,29,2,1102,17,10,3,8,102,-1,8,10,1001,10,1,10,4,10,1008,8,1,10,4,10,102,1,8,55,2,4,6,10,1,1006,10,10,1,6,14,10,3,8,1002,8,-1,10,101,1,10,10,4,10,1008,8,1,10,4,10,101,0,8,89,3,8,102,-1,8,10,1001,10,1,10,4,10,108,0,8,10,4,10,1002,8,1,110,1,104,8,10,3,8,1002,8,-1,10,1001,10,1,10,4,10,1008,8,1,10,4,10,102,1,8,137,2,9,17,10,2,1101,14,10,3,8,102,-1,8,10,101,1,10,10,4,10,1008,8,0,10,4,10,101,0,8,167,1,107,6,10,1,104,6,10,2,1106,6,10,3,8,1002,8,-1,10,101,1,10,10,4,10,108,1,8,10,4,10,1001,8,0,200,1006,0,52,1006,0,70,1006,0,52,3,8,102,-1,8,10,101,1,10,10,4,10,1008,8,1,10,4,10,1002,8,1,232,1006,0,26,1,104,19,10,3,8,102,-1,8,10,1001,10,1,10,4,10,108,0,8,10,4,10,102,1,8,260,1,2,15,10,2,1102,14,10,3,8,1002,8,-1,10,1001,10,1,10,4,10,108,0,8,10,4,10,1001,8,0,290,1,108,11,10,1006,0,36,1006,0,90,1006,0,52,101,1,9,9,1007,9,940,10,1005,10,15,99,109,646,104,0,104,1,21101,0,666412360596,1,21101,341,0,0,1105,1,445,21101,838366659476,0,1,21102,1,352,0,1106,0,445,3,10,104,0,104,1,3,10,104,0,104,0,3,10,104,0,104,1,3,10,104,0,104,1,3,10,104,0,104,0,3,10,104,0,104,1,21101,0,97713695975,1,21102,1,399,0,1106,0,445,21102,179469028392,1,1,21101,410,0,0,1105,1,445,3,10,104,0,104,0,3,10,104,0,104,0,21102,1,988220650260,1,21101,433,0,0,1105,1,445,21101,0,838345843560,1,21101,444,0,0,1106,0,445,99,109,2,22101,0,-1,1,21102,1,40,2,21102,1,476,3,21101,466,0,0,1106,0,509,109,-2,2105,1,0,0,1,0,0,1,109,2,3,10,204,-1,1001,471,472,487,4,0,1001,471,1,471,108,4,471,10,1006,10,503,1101,0,0,471,109,-2,2106,0,0,0,109,4,1202,-1,1,508,1207,-3,0,10,1006,10,526,21101,0,0,-3,22101,0,-3,1,22102,1,-2,2,21102,1,1,3,21101,0,545,0,1106,0,550,109,-4,2105,1,0,109,5,1207,-3,1,10,1006,10,573,2207,-4,-2,10,1006,10,573,21201,-4,0,-4,1106,0,641,21201,-4,0,1,21201,-3,-1,2,21202,-2,2,3,21102,592,1,0,1106,0,550,21201,1,0,-4,21101,0,1,-1,2207,-4,-2,10,1006,10,611,21101,0,0,-1,22202,-2,-1,-2,2107,0,-3,10,1006,10,633,22102,1,-1,1,21102,1,633,0,106,0,508,21202,-2,-1,-2,22201,-4,-2,-4,109,-5,2105,1,0]\n",
    "\n",
    "\n",
    "N = 100\n",
    "grid = np.zeros((N,N))\n",
    "cur_x = N//2\n",
    "cur_y = N//2\n",
    "painted = [] # list of tuples\n",
    "halted = False\n",
    "inp_list = []\n",
    "out_list = []\n",
    "raw_out = [0, 0, 0]\n",
    "inp_program = inp_program + [0]*1000\n",
    "facing = 0 # 0: up, 1: right, 2: down, 3: left\n",
    "#################################################\n",
    "#################################################\n",
    "# For part two, uncomment\n",
    "# grid[cur_y, cur_x] = 1  # Part 2\n",
    "#################################################\n",
    "#################################################\n",
    "while(not halted):\n",
    "    [cur, inp_index, rel_index] = raw_out\n",
    "    assert(cur >= 0)\n",
    "    assert(inp_index >= 0)\n",
    "    assert(rel_index >= 0)\n",
    "    inp_list.append(grid[cur_y, cur_x])\n",
    "    raw_out, halted = run_computer(inp_program, inp_list, out_val=out_list, verbose=False,\n",
    "                                         cur=cur, inp_index=inp_index, rel_index=rel_index)\n",
    "    painted.append((cur_x, cur_y))\n",
    "    grid[cur_y, cur_x] = out_list[-2]\n",
    "    \n",
    "    # Update facing, cur_x, and cur_y\n",
    "    move_dir = out_list[-1]\n",
    "    if move_dir == 1: # Turn right\n",
    "        facing = (facing + 1) % 4\n",
    "    else:\n",
    "        facing = (facing - 1) % 4\n",
    "\n",
    "    if facing == 0:\n",
    "        cur_y = cur_y + 1\n",
    "    elif facing == 2:\n",
    "        cur_y = cur_y - 1\n",
    "    elif facing == 1:\n",
    "        cur_x = cur_x + 1\n",
    "    else:\n",
    "        cur_x = cur_x - 1\n",
    "        \n",
    "    assert(cur_x >= 0)\n",
    "    assert(cur_y >= 0)\n",
    "        \n",
    "    "
   ]
  },
  {
   "cell_type": "code",
   "execution_count": 4,
   "metadata": {},
   "outputs": [
    {
     "data": {
      "text/plain": [
       "1747"
      ]
     },
     "execution_count": 4,
     "metadata": {},
     "output_type": "execute_result"
    }
   ],
   "source": [
    "# Part one solution\n",
    "len(set(painted))"
   ]
  },
  {
   "cell_type": "code",
   "execution_count": 5,
   "metadata": {},
   "outputs": [
    {
     "data": {
      "image/png": "[encoded data removed]",
      "text/plain": [
       "<Figure size 720x720 with 1 Axes>"
      ]
     },
     "metadata": {
      "needs_background": "light"
     },
     "output_type": "display_data"
    }
   ],
   "source": [
    "# Part two solution, read off image\n",
    "import matplotlib.pyplot as plt\n",
    "plt.figure(figsize=(10,10))\n",
    "plt.pcolormesh(grid)\n",
    "plt.show()"
   ]
  },
  {
   "cell_type": "code",
   "execution_count": null,
   "metadata": {},
   "outputs": [],
   "source": []
  }
 ],
 "metadata": {
  "kernelspec": {
   "display_name": "gpag",
   "language": "python",
   "name": "gpag"
  },
  "language_info": {
   "codemirror_mode": {
    "name": "ipython",
    "version": 3
   },
   "file_extension": ".py",
   "mimetype": "text/x-python",
   "name": "python",
   "nbconvert_exporter": "python",
   "pygments_lexer": "ipython3",
   "version": "3.7.3"
  },
  "varInspector": {
   "cols": {
    "lenName": 16,
    "lenType": 16,
    "lenVar": 40
   },
   "kernels_config": {
    "python": {
     "delete_cmd_postfix": "",
     "delete_cmd_prefix": "del ",
     "library": "var_list.py",
     "varRefreshCmd": "print(var_dic_list())"
    },
    "r": {
     "delete_cmd_postfix": ") ",
     "delete_cmd_prefix": "rm(",
     "library": "var_list.r",
     "varRefreshCmd": "cat(var_dic_list()) "
    }
   },
   "types_to_exclude": [
    "module",
    "function",
    "builtin_function_or_method",
    "instance",
    "_Feature"
   ],
   "window_display": false
  }
 },
 "nbformat": 4,
 "nbformat_minor": 2
}
