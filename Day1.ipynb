{
 "cells": [
  {
   "cell_type": "code",
   "execution_count": 1,
   "metadata": {},
   "outputs": [],
   "source": [
    "def get_fuel_requirements(mass):\n",
    "    return mass//3-2\n",
    "\n",
    "def get_full_fuel_requirements(mass):\n",
    "    remainder = mass\n",
    "    acc = 0\n",
    "    while remainder > 0:\n",
    "        cur = max(0, get_fuel_requirements(remainder))\n",
    "        remainder = cur\n",
    "        acc = acc + cur\n",
    "    return acc"
   ]
  },
  {
   "cell_type": "code",
   "execution_count": 2,
   "metadata": {},
   "outputs": [
    {
     "name": "stdout",
     "output_type": "stream",
     "text": [
      "2\n",
      "2\n",
      "654\n",
      "33583\n",
      "--- full ---\n",
      "2\n",
      "966\n",
      "50346\n"
     ]
    }
   ],
   "source": [
    "# Examples:\n",
    "\n",
    "for mm in [12, 14, 1969, 100756]:\n",
    "    print(get_fuel_requirements(mm))\n",
    "    \n",
    "print('--- full ---')\n",
    "for mm in [14, 1969, 100756]:\n",
    "    print(get_full_fuel_requirements(mm))"
   ]
  },
  {
   "cell_type": "code",
   "execution_count": 3,
   "metadata": {},
   "outputs": [],
   "source": [
    "# Get input\n",
    "lineList = [int(line. rstrip('\\n')) for line in open('inp1a.txt')]"
   ]
  },
  {
   "cell_type": "code",
   "execution_count": 4,
   "metadata": {},
   "outputs": [
    {
     "name": "stdout",
     "output_type": "stream",
     "text": [
      "3246455\n"
     ]
    }
   ],
   "source": [
    "# Part one\n",
    "acc = 0\n",
    "for mm in lineList:\n",
    "    acc = acc + get_fuel_requirements(mm)\n",
    "    \n",
    "print(acc)"
   ]
  },
  {
   "cell_type": "code",
   "execution_count": 5,
   "metadata": {},
   "outputs": [
    {
     "name": "stdout",
     "output_type": "stream",
     "text": [
      "4866824\n"
     ]
    }
   ],
   "source": [
    "# Part two\n",
    "acc = 0\n",
    "for mm in lineList:\n",
    "    acc = acc + get_full_fuel_requirements(mm)\n",
    "    \n",
    "print(acc)"
   ]
  },
  {
   "cell_type": "code",
   "execution_count": null,
   "metadata": {},
   "outputs": [],
   "source": []
  }
 ],
 "metadata": {
  "kernelspec": {
   "display_name": "Python 3",
   "language": "python",
   "name": "python3"
  },
  "language_info": {
   "codemirror_mode": {
    "name": "ipython",
    "version": 3
   },
   "file_extension": ".py",
   "mimetype": "text/x-python",
   "name": "python",
   "nbconvert_exporter": "python",
   "pygments_lexer": "ipython3",
   "version": "3.7.3"
  },
  "varInspector": {
   "cols": {
    "lenName": 16,
    "lenType": 16,
    "lenVar": 40
   },
   "kernels_config": {
    "python": {
     "delete_cmd_postfix": "",
     "delete_cmd_prefix": "del ",
     "library": "var_list.py",
     "varRefreshCmd": "print(var_dic_list())"
    },
    "r": {
     "delete_cmd_postfix": ") ",
     "delete_cmd_prefix": "rm(",
     "library": "var_list.r",
     "varRefreshCmd": "cat(var_dic_list()) "
    }
   },
   "types_to_exclude": [
    "module",
    "function",
    "builtin_function_or_method",
    "instance",
    "_Feature"
   ],
   "window_display": false
  }
 },
 "nbformat": 4,
 "nbformat_minor": 2
}
